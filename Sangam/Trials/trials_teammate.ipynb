{
  "nbformat": 4,
  "nbformat_minor": 0,
  "metadata": {
    "colab": {
      "name": "Copy of Sangam_v3.ipynb",
      "version": "0.3.2",
      "provenance": []
    },
    "kernelspec": {
      "name": "python3",
      "display_name": "Python 3"
    },
    "accelerator": "GPU"
  },
  "cells": [
    {
      "cell_type": "code",
      "metadata": {
        "id": "mna-JlmwfQoj",
        "colab_type": "code",
        "outputId": "49f5821e-b298-49db-ecb8-39b8a2a8bd93",
        "colab": {
          "base_uri": "https://localhost:8080/",
          "height": 541
        }
      },
      "source": [
        "pip install catboost"
      ],
      "execution_count": 0,
      "outputs": [
        {
          "output_type": "stream",
          "text": [
            "Collecting catboost\n",
            "\u001b[?25l  Downloading https://files.pythonhosted.org/packages/46/1f/3a3136ec9eeaaee2898ec01a3d5bde7933c4aa873bc924b790befc482ea0/catboost-0.16.1-cp36-none-manylinux1_x86_64.whl (61.7MB)\n",
            "\u001b[K     |████████████████████████████████| 61.7MB 528kB/s \n",
            "\u001b[?25hRequirement already satisfied: matplotlib in /usr/local/lib/python3.6/dist-packages (from catboost) (3.0.3)\n",
            "Requirement already satisfied: pandas>=0.19.1 in /usr/local/lib/python3.6/dist-packages (from catboost) (0.24.2)\n",
            "Requirement already satisfied: six in /usr/local/lib/python3.6/dist-packages (from catboost) (1.12.0)\n",
            "Requirement already satisfied: numpy>=1.16.0 in /usr/local/lib/python3.6/dist-packages (from catboost) (1.16.4)\n",
            "Requirement already satisfied: plotly in /usr/local/lib/python3.6/dist-packages (from catboost) (3.6.1)\n",
            "Requirement already satisfied: graphviz in /usr/local/lib/python3.6/dist-packages (from catboost) (0.10.1)\n",
            "Requirement already satisfied: cycler>=0.10 in /usr/local/lib/python3.6/dist-packages (from matplotlib->catboost) (0.10.0)\n",
            "Requirement already satisfied: python-dateutil>=2.1 in /usr/local/lib/python3.6/dist-packages (from matplotlib->catboost) (2.5.3)\n",
            "Requirement already satisfied: kiwisolver>=1.0.1 in /usr/local/lib/python3.6/dist-packages (from matplotlib->catboost) (1.1.0)\n",
            "Requirement already satisfied: pyparsing!=2.0.4,!=2.1.2,!=2.1.6,>=2.0.1 in /usr/local/lib/python3.6/dist-packages (from matplotlib->catboost) (2.4.0)\n",
            "Requirement already satisfied: pytz>=2011k in /usr/local/lib/python3.6/dist-packages (from pandas>=0.19.1->catboost) (2018.9)\n",
            "Requirement already satisfied: retrying>=1.3.3 in /usr/local/lib/python3.6/dist-packages (from plotly->catboost) (1.3.3)\n",
            "Requirement already satisfied: decorator>=4.0.6 in /usr/local/lib/python3.6/dist-packages (from plotly->catboost) (4.4.0)\n",
            "Requirement already satisfied: requests in /usr/local/lib/python3.6/dist-packages (from plotly->catboost) (2.21.0)\n",
            "Requirement already satisfied: nbformat>=4.2 in /usr/local/lib/python3.6/dist-packages (from plotly->catboost) (4.4.0)\n",
            "Requirement already satisfied: setuptools in /usr/local/lib/python3.6/dist-packages (from kiwisolver>=1.0.1->matplotlib->catboost) (41.0.1)\n",
            "Requirement already satisfied: idna<2.9,>=2.5 in /usr/local/lib/python3.6/dist-packages (from requests->plotly->catboost) (2.8)\n",
            "Requirement already satisfied: certifi>=2017.4.17 in /usr/local/lib/python3.6/dist-packages (from requests->plotly->catboost) (2019.6.16)\n",
            "Requirement already satisfied: chardet<3.1.0,>=3.0.2 in /usr/local/lib/python3.6/dist-packages (from requests->plotly->catboost) (3.0.4)\n",
            "Requirement already satisfied: urllib3<1.25,>=1.21.1 in /usr/local/lib/python3.6/dist-packages (from requests->plotly->catboost) (1.24.3)\n",
            "Requirement already satisfied: traitlets>=4.1 in /usr/local/lib/python3.6/dist-packages (from nbformat>=4.2->plotly->catboost) (4.3.2)\n",
            "Requirement already satisfied: jsonschema!=2.5.0,>=2.4 in /usr/local/lib/python3.6/dist-packages (from nbformat>=4.2->plotly->catboost) (2.6.0)\n",
            "Requirement already satisfied: jupyter-core in /usr/local/lib/python3.6/dist-packages (from nbformat>=4.2->plotly->catboost) (4.5.0)\n",
            "Requirement already satisfied: ipython-genutils in /usr/local/lib/python3.6/dist-packages (from nbformat>=4.2->plotly->catboost) (0.2.0)\n",
            "Installing collected packages: catboost\n",
            "Successfully installed catboost-0.16.1\n"
          ],
          "name": "stdout"
        }
      ]
    },
    {
      "cell_type": "code",
      "metadata": {
        "id": "tV6Z-ZjSS8Bn",
        "colab_type": "code",
        "outputId": "51fb1481-7dfc-40e6-e5e0-c9439d0d1c50",
        "colab": {
          "base_uri": "https://localhost:8080/",
          "height": 243
        }
      },
      "source": [
        "!pip install ml_metrics"
      ],
      "execution_count": 0,
      "outputs": [
        {
          "output_type": "stream",
          "text": [
            "Collecting ml_metrics\n",
            "  Downloading https://files.pythonhosted.org/packages/c1/e7/c31a2dd37045a0c904bee31c2dbed903d4f125a6ce980b91bae0c961abb8/ml_metrics-0.1.4.tar.gz\n",
            "Requirement already satisfied: numpy in /usr/local/lib/python3.6/dist-packages (from ml_metrics) (1.16.4)\n",
            "Requirement already satisfied: pandas in /usr/local/lib/python3.6/dist-packages (from ml_metrics) (0.24.2)\n",
            "Requirement already satisfied: python-dateutil>=2.5.0 in /usr/local/lib/python3.6/dist-packages (from pandas->ml_metrics) (2.5.3)\n",
            "Requirement already satisfied: pytz>=2011k in /usr/local/lib/python3.6/dist-packages (from pandas->ml_metrics) (2018.9)\n",
            "Requirement already satisfied: six>=1.5 in /usr/local/lib/python3.6/dist-packages (from python-dateutil>=2.5.0->pandas->ml_metrics) (1.12.0)\n",
            "Building wheels for collected packages: ml-metrics\n",
            "  Building wheel for ml-metrics (setup.py) ... \u001b[?25l\u001b[?25hdone\n",
            "  Stored in directory: /root/.cache/pip/wheels/b3/61/2d/776be7b8a4f14c5db48c8e5451451cabc58dc6aa7ee3801163\n",
            "Successfully built ml-metrics\n",
            "Installing collected packages: ml-metrics\n",
            "Successfully installed ml-metrics-0.1.4\n"
          ],
          "name": "stdout"
        }
      ]
    },
    {
      "cell_type": "code",
      "metadata": {
        "id": "2xux4k7N2DbE",
        "colab_type": "code",
        "colab": {}
      },
      "source": [
        "!unzip -q Sangam_ML.zip"
      ],
      "execution_count": 0,
      "outputs": []
    },
    {
      "cell_type": "code",
      "metadata": {
        "id": "Qv5lM2Wr2esp",
        "colab_type": "code",
        "colab": {}
      },
      "source": [
        "%matplotlib inline\n",
        "\n",
        "import pandas as pd\n",
        "import numpy as np\n",
        "\n",
        "import seaborn as sns\n",
        "import matplotlib.pyplot as plt\n",
        "\n",
        "from xgboost import XGBRegressor\n",
        "from lightgbm import LGBMRegressor\n",
        "\n",
        "from sklearn.linear_model import LinearRegression, SGDRegressor, HuberRegressor\n",
        "from sklearn.experimental import enable_hist_gradient_boosting\n",
        "from sklearn.ensemble import HistGradientBoostingRegressor\n",
        "\n",
        "from sklearn.preprocessing import LabelEncoder\n",
        "\n",
        "from ml_metrics import rmsle, msle"
      ],
      "execution_count": 0,
      "outputs": []
    },
    {
      "cell_type": "code",
      "metadata": {
        "id": "EAdRZ0mb28W_",
        "colab_type": "code",
        "colab": {}
      },
      "source": [
        "train = pd.read_csv('DataSets/Train.csv')\n",
        "test = pd.read_csv('DataSets/Test.csv')"
      ],
      "execution_count": 0,
      "outputs": []
    },
    {
      "cell_type": "code",
      "metadata": {
        "id": "tFtflEPFbpIy",
        "colab_type": "code",
        "colab": {}
      },
      "source": [
        "train = train[train.rain_p_h<11]\n",
        "train = train[train.temperature>0]"
      ],
      "execution_count": 0,
      "outputs": []
    },
    {
      "cell_type": "code",
      "metadata": {
        "id": "rlSxVZxZc50q",
        "colab_type": "code",
        "colab": {}
      },
      "source": [
        "train.wind_direction = train.wind_direction.apply(lambda x: 0 if x==360 else x)\n",
        "test.wind_direction = test.wind_direction.apply(lambda x: 0 if x==360 else x)"
      ],
      "execution_count": 0,
      "outputs": []
    },
    {
      "cell_type": "code",
      "metadata": {
        "id": "XjLYarrW5Bmd",
        "colab_type": "code",
        "colab": {}
      },
      "source": [
        "train.date_time = pd.to_datetime(train.date_time, format='%Y-%m-%d %H:%M:%S')\n",
        "test.date_time = pd.to_datetime(test.date_time, format='%Y-%m-%d %H:%M:%S')"
      ],
      "execution_count": 0,
      "outputs": []
    },
    {
      "cell_type": "code",
      "metadata": {
        "id": "ttKpHp8Q5nwa",
        "colab_type": "code",
        "colab": {}
      },
      "source": [
        "train['hour'] = train.date_time.dt.hour\n",
        "test['hour'] = test.date_time.dt.hour"
      ],
      "execution_count": 0,
      "outputs": []
    },
    {
      "cell_type": "code",
      "metadata": {
        "id": "8G3Q_zfNbz-b",
        "colab_type": "code",
        "colab": {}
      },
      "source": [
        "train['date'] = train.date_time.dt.day\n",
        "test['date'] = test.date_time.dt.day"
      ],
      "execution_count": 0,
      "outputs": []
    },
    {
      "cell_type": "code",
      "metadata": {
        "id": "cZEySz5V53Re",
        "colab_type": "code",
        "colab": {}
      },
      "source": [
        "train['weekday'] = train.date_time.dt.weekday\n",
        "test['weekday'] = test.date_time.dt.weekday"
      ],
      "execution_count": 0,
      "outputs": []
    },
    {
      "cell_type": "code",
      "metadata": {
        "id": "WFJQxpnqPgo_",
        "colab_type": "code",
        "colab": {}
      },
      "source": [
        "train['month'] = train.date_time.dt.month\n",
        "test['month'] = test.date_time.dt.month"
      ],
      "execution_count": 0,
      "outputs": []
    },
    {
      "cell_type": "code",
      "metadata": {
        "id": "hCzVXPhY4Ii_",
        "colab_type": "code",
        "colab": {}
      },
      "source": [
        "train['holiday'] = train.is_holiday.apply(lambda x: 0 if x=='None' else 1)\n",
        "test['holiday'] = test.is_holiday.apply(lambda x: 0 if x=='None' else 1)"
      ],
      "execution_count": 0,
      "outputs": []
    },
    {
      "cell_type": "code",
      "metadata": {
        "id": "fm5BfYt04XVd",
        "colab_type": "code",
        "colab": {}
      },
      "source": [
        "train.drop(['is_holiday', 'visibility_in_miles'], axis=1, inplace=True)\n",
        "test.drop(['is_holiday', 'visibility_in_miles'], axis=1, inplace=True)"
      ],
      "execution_count": 0,
      "outputs": []
    },
    {
      "cell_type": "code",
      "metadata": {
        "id": "o2SMAJtBWzxN",
        "colab_type": "code",
        "colab": {}
      },
      "source": [
        "wd = list(set(train.weather_description) - set(test.weather_description))\n",
        "# for value in wd:\n",
        "#     print(f'{value} : {train[train.weather_description==value].shape[0]}')\n",
        "    \n",
        "train = train[~train.weather_description.isin(wd)]"
      ],
      "execution_count": 0,
      "outputs": []
    },
    {
      "cell_type": "code",
      "metadata": {
        "id": "Wi51DDvHfbmI",
        "colab_type": "code",
        "outputId": "5aa2e2f2-4294-4e5e-c8ca-7ded131ef09b",
        "colab": {
          "base_uri": "https://localhost:8080/",
          "height": 34
        }
      },
      "source": [
        "train.shape, test.shape"
      ],
      "execution_count": 0,
      "outputs": [
        {
          "output_type": "execute_result",
          "data": {
            "text/plain": [
              "((33649, 18), (14454, 17))"
            ]
          },
          "metadata": {
            "tags": []
          },
          "execution_count": 233
        }
      ]
    },
    {
      "cell_type": "code",
      "metadata": {
        "id": "DbCTgcWq3d-u",
        "colab_type": "code",
        "outputId": "b8afd02f-2a24-4de9-f43a-bc3fa7adf900",
        "colab": {
          "base_uri": "https://localhost:8080/",
          "height": 312
        }
      },
      "source": [
        "for col in test.columns:\n",
        "    print(f'{col} : {train[col].nunique()}, {test[col].nunique()}')"
      ],
      "execution_count": 0,
      "outputs": [
        {
          "output_type": "stream",
          "text": [
            "date_time : 28543, 11986\n",
            "air_pollution_index : 290, 290\n",
            "humidity : 88, 91\n",
            "wind_speed : 17, 17\n",
            "wind_direction : 360, 355\n",
            "dew_point : 9, 9\n",
            "temperature : 5610, 3334\n",
            "rain_p_h : 319, 87\n",
            "snow_p_h : 12, 1\n",
            "clouds_all : 60, 19\n",
            "weather_type : 10, 10\n",
            "weather_description : 32, 32\n",
            "hour : 24, 24\n",
            "date : 31, 31\n",
            "weekday : 7, 7\n",
            "month : 12, 12\n",
            "holiday : 2, 2\n"
          ],
          "name": "stdout"
        }
      ]
    },
    {
      "cell_type": "code",
      "metadata": {
        "id": "at00V027ivuz",
        "colab_type": "code",
        "outputId": "f1077d05-d206-487e-c8fa-1986968b6d3a",
        "colab": {
          "base_uri": "https://localhost:8080/",
          "height": 300
        }
      },
      "source": [
        "sns.scatterplot(train.hour, train.traffic_volume)"
      ],
      "execution_count": 0,
      "outputs": [
        {
          "output_type": "execute_result",
          "data": {
            "text/plain": [
              "<matplotlib.axes._subplots.AxesSubplot at 0x7f4d77fd9ef0>"
            ]
          },
          "metadata": {
            "tags": []
          },
          "execution_count": 122
        },
        {
          "output_type": "display_data",
          "data": {
            "image/png": "[encoded data removed]",
            "text/plain": [
              "<Figure size 432x288 with 1 Axes>"
            ]
          },
          "metadata": {
            "tags": []
          }
        }
      ]
    },
    {
      "cell_type": "code",
      "metadata": {
        "id": "FRk1NpG6i8-C",
        "colab_type": "code",
        "colab": {}
      },
      "source": [
        "day_time = [i for i in range(6, 19)]\n",
        "night_time = [19, 20, 21, 22, 23, 0, 1, 2, 3, 4, 5]\n",
        "peak_time = [8, 9, 10, 11, 12, 13, 14, 15, 16, 17, 18, 19]\n",
        "off=[1,2,3,4,5,23]\n",
        "train['day_time'] = train.hour.isin(day_time).astype(int)\n",
        "# train['night_time'] = train.hour.isin(night_time).astype(int)\n",
        "train['peak_time'] = train.hour.isin(peak_time).astype(int)\n",
        "train['off'] = train.hour.isin(off).astype(int)\n",
        "\n",
        "test['day_time'] = test.hour.isin(day_time).astype(int)\n",
        "# test['night_time'] = test.hour.isin(night_time).astype(int)\n",
        "test['peak_time'] = test.hour.isin(peak_time).astype(int)\n",
        "test['off'] = test.hour.isin(off).astype(int)"
      ],
      "execution_count": 0,
      "outputs": []
    },
    {
      "cell_type": "code",
      "metadata": {
        "id": "yp8Mpm0gktvH",
        "colab_type": "code",
        "outputId": "cf797c4c-c5cf-4f5e-d26a-ad05d7a5a8b7",
        "colab": {
          "base_uri": "https://localhost:8080/",
          "height": 370
        }
      },
      "source": [
        "sns.heatmap(train.corr())"
      ],
      "execution_count": 0,
      "outputs": [
        {
          "output_type": "execute_result",
          "data": {
            "text/plain": [
              "<matplotlib.axes._subplots.AxesSubplot at 0x7fda93f999b0>"
            ]
          },
          "metadata": {
            "tags": []
          },
          "execution_count": 13
        },
        {
          "output_type": "display_data",
          "data": {
            "image/png": "[encoded data removed]",
            "text/plain": [
              "<Figure size 432x288 with 2 Axes>"
            ]
          },
          "metadata": {
            "tags": []
          }
        }
      ]
    },
    {
      "cell_type": "code",
      "metadata": {
        "id": "q_1tGgGrTmcl",
        "colab_type": "code",
        "outputId": "85a97a6a-8818-4cca-e61b-411f22b4d638",
        "colab": {
          "base_uri": "https://localhost:8080/",
          "height": 319
        }
      },
      "source": [
        "sns.distplot(train.clouds_all, color='b'), sns.distplot(test.clouds_all, color='r')"
      ],
      "execution_count": 0,
      "outputs": [
        {
          "output_type": "execute_result",
          "data": {
            "text/plain": [
              "(<matplotlib.axes._subplots.AxesSubplot at 0x7f5c1cfe8908>,\n",
              " <matplotlib.axes._subplots.AxesSubplot at 0x7f5c1cfe8908>)"
            ]
          },
          "metadata": {
            "tags": []
          },
          "execution_count": 19
        },
        {
          "output_type": "display_data",
          "data": {
            "image/png": "[encoded data removed]",
            "text/plain": [
              "<Figure size 432x288 with 1 Axes>"
            ]
          },
          "metadata": {
            "tags": []
          }
        }
      ]
    },
    {
      "cell_type": "code",
      "metadata": {
        "id": "HasM3Tx0UeXF",
        "colab_type": "code",
        "outputId": "9c5a4def-9891-4dec-afc9-823c8a970539",
        "colab": {
          "base_uri": "https://localhost:8080/",
          "height": 318
        }
      },
      "source": [
        "sns.distplot(train.humidity, color='b'), sns.distplot(test.humidity, color='r')"
      ],
      "execution_count": 0,
      "outputs": [
        {
          "output_type": "execute_result",
          "data": {
            "text/plain": [
              "(<matplotlib.axes._subplots.AxesSubplot at 0x7f49e40d65f8>,\n",
              " <matplotlib.axes._subplots.AxesSubplot at 0x7f49e40d65f8>)"
            ]
          },
          "metadata": {
            "tags": []
          },
          "execution_count": 17
        },
        {
          "output_type": "display_data",
          "data": {
            "image/png": "[encoded data removed]",
            "text/plain": [
              "<Figure size 432x288 with 1 Axes>"
            ]
          },
          "metadata": {
            "tags": []
          }
        }
      ]
    },
    {
      "cell_type": "code",
      "metadata": {
        "id": "-SnJMvnzU2K4",
        "colab_type": "code",
        "outputId": "2029d261-3adb-4c4a-f2ef-3636c1e364de",
        "colab": {
          "base_uri": "https://localhost:8080/",
          "height": 319
        }
      },
      "source": [
        "sns.distplot(train.air_pollution_index, color='b'), sns.distplot(test.air_pollution_index, color='r')"
      ],
      "execution_count": 0,
      "outputs": [
        {
          "output_type": "execute_result",
          "data": {
            "text/plain": [
              "(<matplotlib.axes._subplots.AxesSubplot at 0x7f49e40ade48>,\n",
              " <matplotlib.axes._subplots.AxesSubplot at 0x7f49e40ade48>)"
            ]
          },
          "metadata": {
            "tags": []
          },
          "execution_count": 18
        },
        {
          "output_type": "display_data",
          "data": {
            "image/png": "[encoded data removed]",
            "text/plain": [
              "<Figure size 432x288 with 1 Axes>"
            ]
          },
          "metadata": {
            "tags": []
          }
        }
      ]
    },
    {
      "cell_type": "code",
      "metadata": {
        "id": "UKXSeubNwGLV",
        "colab_type": "code",
        "outputId": "573d7f79-2049-401c-bd26-4ea423e33823",
        "colab": {
          "base_uri": "https://localhost:8080/",
          "height": 304
        }
      },
      "source": [
        "sns.kdeplot(train.temperature, color='b'), sns.kdeplot(test.temperature, color='r')"
      ],
      "execution_count": 0,
      "outputs": [
        {
          "output_type": "execute_result",
          "data": {
            "text/plain": [
              "(<matplotlib.axes._subplots.AxesSubplot at 0x7f49e048fc88>,\n",
              " <matplotlib.axes._subplots.AxesSubplot at 0x7f49e048fc88>)"
            ]
          },
          "metadata": {
            "tags": []
          },
          "execution_count": 19
        },
        {
          "output_type": "display_data",
          "data": {
            "image/png": "[encoded data removed]",
            "text/plain": [
              "<Figure size 432x288 with 1 Axes>"
            ]
          },
          "metadata": {
            "tags": []
          }
        }
      ]
    },
    {
      "cell_type": "code",
      "metadata": {
        "id": "lBUdRqi9cug3",
        "colab_type": "code",
        "colab": {}
      },
      "source": [
        "y = train.traffic_volume\n",
        "train.drop('traffic_volume', axis=1, inplace=True)"
      ],
      "execution_count": 0,
      "outputs": []
    },
    {
      "cell_type": "code",
      "metadata": {
        "id": "3y_0Qb5-li2N",
        "colab_type": "code",
        "colab": {}
      },
      "source": [
        "train.drop('date_time', axis=1, inplace=True)\n",
        "test.drop('date_time', axis=1, inplace=True)"
      ],
      "execution_count": 0,
      "outputs": []
    },
    {
      "cell_type": "code",
      "metadata": {
        "id": "HG5bVBc8k__z",
        "colab_type": "code",
        "colab": {}
      },
      "source": [
        "assert train.shape[1]==test.shape[1]"
      ],
      "execution_count": 0,
      "outputs": []
    },
    {
      "cell_type": "code",
      "metadata": {
        "id": "hdSwaDaQlFA6",
        "colab_type": "code",
        "outputId": "a1587b59-2bc8-49e6-d1fa-45ae8ce44b2b",
        "colab": {
          "base_uri": "https://localhost:8080/",
          "height": 646
        }
      },
      "source": [
        "pd.DataFrame(train.dtypes).reset_index()"
      ],
      "execution_count": 0,
      "outputs": [
        {
          "output_type": "execute_result",
          "data": {
            "text/html": [
              "<div>\n",
              "<style scoped>\n",
              "    .dataframe tbody tr th:only-of-type {\n",
              "        vertical-align: middle;\n",
              "    }\n",
              "\n",
              "    .dataframe tbody tr th {\n",
              "        vertical-align: top;\n",
              "    }\n",
              "\n",
              "    .dataframe thead th {\n",
              "        text-align: right;\n",
              "    }\n",
              "</style>\n",
              "<table border=\"1\" class=\"dataframe\">\n",
              "  <thead>\n",
              "    <tr style=\"text-align: right;\">\n",
              "      <th></th>\n",
              "      <th>index</th>\n",
              "      <th>0</th>\n",
              "    </tr>\n",
              "  </thead>\n",
              "  <tbody>\n",
              "    <tr>\n",
              "      <th>0</th>\n",
              "      <td>air_pollution_index</td>\n",
              "      <td>int64</td>\n",
              "    </tr>\n",
              "    <tr>\n",
              "      <th>1</th>\n",
              "      <td>humidity</td>\n",
              "      <td>int64</td>\n",
              "    </tr>\n",
              "    <tr>\n",
              "      <th>2</th>\n",
              "      <td>wind_speed</td>\n",
              "      <td>int64</td>\n",
              "    </tr>\n",
              "    <tr>\n",
              "      <th>3</th>\n",
              "      <td>wind_direction</td>\n",
              "      <td>int64</td>\n",
              "    </tr>\n",
              "    <tr>\n",
              "      <th>4</th>\n",
              "      <td>dew_point</td>\n",
              "      <td>int64</td>\n",
              "    </tr>\n",
              "    <tr>\n",
              "      <th>5</th>\n",
              "      <td>temperature</td>\n",
              "      <td>float64</td>\n",
              "    </tr>\n",
              "    <tr>\n",
              "      <th>6</th>\n",
              "      <td>rain_p_h</td>\n",
              "      <td>float64</td>\n",
              "    </tr>\n",
              "    <tr>\n",
              "      <th>7</th>\n",
              "      <td>snow_p_h</td>\n",
              "      <td>float64</td>\n",
              "    </tr>\n",
              "    <tr>\n",
              "      <th>8</th>\n",
              "      <td>clouds_all</td>\n",
              "      <td>int64</td>\n",
              "    </tr>\n",
              "    <tr>\n",
              "      <th>9</th>\n",
              "      <td>weather_type</td>\n",
              "      <td>object</td>\n",
              "    </tr>\n",
              "    <tr>\n",
              "      <th>10</th>\n",
              "      <td>weather_description</td>\n",
              "      <td>object</td>\n",
              "    </tr>\n",
              "    <tr>\n",
              "      <th>11</th>\n",
              "      <td>hour</td>\n",
              "      <td>int64</td>\n",
              "    </tr>\n",
              "    <tr>\n",
              "      <th>12</th>\n",
              "      <td>date</td>\n",
              "      <td>int64</td>\n",
              "    </tr>\n",
              "    <tr>\n",
              "      <th>13</th>\n",
              "      <td>weekday</td>\n",
              "      <td>int64</td>\n",
              "    </tr>\n",
              "    <tr>\n",
              "      <th>14</th>\n",
              "      <td>month</td>\n",
              "      <td>int64</td>\n",
              "    </tr>\n",
              "    <tr>\n",
              "      <th>15</th>\n",
              "      <td>holiday</td>\n",
              "      <td>int64</td>\n",
              "    </tr>\n",
              "    <tr>\n",
              "      <th>16</th>\n",
              "      <td>day_time</td>\n",
              "      <td>int64</td>\n",
              "    </tr>\n",
              "    <tr>\n",
              "      <th>17</th>\n",
              "      <td>peak_time</td>\n",
              "      <td>int64</td>\n",
              "    </tr>\n",
              "    <tr>\n",
              "      <th>18</th>\n",
              "      <td>off</td>\n",
              "      <td>int64</td>\n",
              "    </tr>\n",
              "  </tbody>\n",
              "</table>\n",
              "</div>"
            ],
            "text/plain": [
              "                  index        0\n",
              "0   air_pollution_index    int64\n",
              "1              humidity    int64\n",
              "2            wind_speed    int64\n",
              "3        wind_direction    int64\n",
              "4             dew_point    int64\n",
              "5           temperature  float64\n",
              "6              rain_p_h  float64\n",
              "7              snow_p_h  float64\n",
              "8            clouds_all    int64\n",
              "9          weather_type   object\n",
              "10  weather_description   object\n",
              "11                 hour    int64\n",
              "12                 date    int64\n",
              "13              weekday    int64\n",
              "14                month    int64\n",
              "15              holiday    int64\n",
              "16             day_time    int64\n",
              "17            peak_time    int64\n",
              "18                  off    int64"
            ]
          },
          "metadata": {
            "tags": []
          },
          "execution_count": 239
        }
      ]
    },
    {
      "cell_type": "code",
      "metadata": {
        "id": "sQur7FrRlM5x",
        "colab_type": "code",
        "colab": {}
      },
      "source": [
        "le_weather_type = LabelEncoder()\n",
        "le_weather_type.fit(train.weather_type)\n",
        "train.weather_type = le_weather_type.transform(train.weather_type)\n",
        "test.weather_type = le_weather_type.transform(test.weather_type)"
      ],
      "execution_count": 0,
      "outputs": []
    },
    {
      "cell_type": "code",
      "metadata": {
        "id": "Vd5voFMmmBnJ",
        "colab_type": "code",
        "colab": {}
      },
      "source": [
        "le_weather_des = LabelEncoder()\n",
        "le_weather_des.fit(train.weather_description)\n",
        "train.weather_description = le_weather_des.transform(train.weather_description)\n",
        "test.weather_description = le_weather_des.transform(test.weather_description)"
      ],
      "execution_count": 0,
      "outputs": []
    },
    {
      "cell_type": "code",
      "metadata": {
        "id": "7ErEBCYImh3X",
        "colab_type": "code",
        "colab": {}
      },
      "source": [
        "cat_cols = [8, 9, 10, 11, 12, 13, 14,15,16,17,18]"
      ],
      "execution_count": 0,
      "outputs": []
    },
    {
      "cell_type": "code",
      "metadata": {
        "id": "XyMmVf7fm42G",
        "colab_type": "code",
        "colab": {}
      },
      "source": [
        "xtrain, xvalid = train[:-6730], train[-6730:]\n",
        "\n",
        "ytrain, yvalid = y[:-6730], y[-6730:]"
      ],
      "execution_count": 0,
      "outputs": []
    },
    {
      "cell_type": "code",
      "metadata": {
        "id": "GUWBjsiunVxV",
        "colab_type": "code",
        "colab": {}
      },
      "source": [
        "def check_val(m):\n",
        "    m.fit(xtrain, ytrain)\n",
        "    pred = m.predict(xvalid)\n",
        "    print(f'RMSLE : {rmsle(yvalid, pred)}')\n",
        "    print(f'MSLE : {msle(yvalid, pred)}')\n",
        "    \n",
        "    return m"
      ],
      "execution_count": 0,
      "outputs": []
    },
    {
      "cell_type": "code",
      "metadata": {
        "id": "6Y_WCO9zopUM",
        "colab_type": "code",
        "outputId": "f827f4be-2014-43d8-a89f-552cd3101b49",
        "colab": {
          "base_uri": "https://localhost:8080/",
          "height": 69
        }
      },
      "source": [
        "lgb = LGBMRegressor(num_leaves=90)\n",
        "lgb.fit(xtrain, ytrain, categorical_feature=cat_cols)\n",
        "pred = lgb.predict(xvalid)"
      ],
      "execution_count": 0,
      "outputs": [
        {
          "output_type": "stream",
          "text": [
            "/usr/local/lib/python3.6/dist-packages/lightgbm/basic.py:1209: UserWarning: categorical_feature in Dataset is overridden.\n",
            "New categorical_feature is [8, 9, 10, 11, 12, 13, 14, 15, 16, 17, 18]\n",
            "  'New categorical_feature is {}'.format(sorted(list(categorical_feature))))\n"
          ],
          "name": "stderr"
        }
      ]
    },
    {
      "cell_type": "code",
      "metadata": {
        "id": "a-ABFU2nuSh8",
        "colab_type": "code",
        "outputId": "abd0b522-fca1-4543-a754-2ab32d2ae218",
        "colab": {
          "base_uri": "https://localhost:8080/",
          "height": 34
        }
      },
      "source": [
        "100-rmsle(yvalid, pred),100-msle(yvalid, pred)"
      ],
      "execution_count": 0,
      "outputs": [
        {
          "output_type": "execute_result",
          "data": {
            "text/plain": [
              "(99.8355908405787, 99.97296962829839)"
            ]
          },
          "metadata": {
            "tags": []
          },
          "execution_count": 260
        }
      ]
    },
    {
      "cell_type": "code",
      "metadata": {
        "id": "06DDCotLu2tQ",
        "colab_type": "code",
        "outputId": "b5ce8509-2714-4057-9075-f15c2ea23fa0",
        "colab": {
          "base_uri": "https://localhost:8080/",
          "height": 646
        }
      },
      "source": [
        "pd.DataFrame({'col':train.columns, 'importance':lgb.feature_importances_}).sort_values(by='importance', ascending=False)"
      ],
      "execution_count": 0,
      "outputs": [
        {
          "output_type": "execute_result",
          "data": {
            "text/html": [
              "<div>\n",
              "<style scoped>\n",
              "    .dataframe tbody tr th:only-of-type {\n",
              "        vertical-align: middle;\n",
              "    }\n",
              "\n",
              "    .dataframe tbody tr th {\n",
              "        vertical-align: top;\n",
              "    }\n",
              "\n",
              "    .dataframe thead th {\n",
              "        text-align: right;\n",
              "    }\n",
              "</style>\n",
              "<table border=\"1\" class=\"dataframe\">\n",
              "  <thead>\n",
              "    <tr style=\"text-align: right;\">\n",
              "      <th></th>\n",
              "      <th>col</th>\n",
              "      <th>importance</th>\n",
              "    </tr>\n",
              "  </thead>\n",
              "  <tbody>\n",
              "    <tr>\n",
              "      <th>12</th>\n",
              "      <td>date</td>\n",
              "      <td>1537</td>\n",
              "    </tr>\n",
              "    <tr>\n",
              "      <th>5</th>\n",
              "      <td>temperature</td>\n",
              "      <td>1459</td>\n",
              "    </tr>\n",
              "    <tr>\n",
              "      <th>11</th>\n",
              "      <td>hour</td>\n",
              "      <td>1018</td>\n",
              "    </tr>\n",
              "    <tr>\n",
              "      <th>14</th>\n",
              "      <td>month</td>\n",
              "      <td>932</td>\n",
              "    </tr>\n",
              "    <tr>\n",
              "      <th>3</th>\n",
              "      <td>wind_direction</td>\n",
              "      <td>827</td>\n",
              "    </tr>\n",
              "    <tr>\n",
              "      <th>13</th>\n",
              "      <td>weekday</td>\n",
              "      <td>709</td>\n",
              "    </tr>\n",
              "    <tr>\n",
              "      <th>1</th>\n",
              "      <td>humidity</td>\n",
              "      <td>654</td>\n",
              "    </tr>\n",
              "    <tr>\n",
              "      <th>0</th>\n",
              "      <td>air_pollution_index</td>\n",
              "      <td>308</td>\n",
              "    </tr>\n",
              "    <tr>\n",
              "      <th>2</th>\n",
              "      <td>wind_speed</td>\n",
              "      <td>289</td>\n",
              "    </tr>\n",
              "    <tr>\n",
              "      <th>10</th>\n",
              "      <td>weather_description</td>\n",
              "      <td>253</td>\n",
              "    </tr>\n",
              "    <tr>\n",
              "      <th>8</th>\n",
              "      <td>clouds_all</td>\n",
              "      <td>248</td>\n",
              "    </tr>\n",
              "    <tr>\n",
              "      <th>6</th>\n",
              "      <td>rain_p_h</td>\n",
              "      <td>171</td>\n",
              "    </tr>\n",
              "    <tr>\n",
              "      <th>4</th>\n",
              "      <td>dew_point</td>\n",
              "      <td>133</td>\n",
              "    </tr>\n",
              "    <tr>\n",
              "      <th>18</th>\n",
              "      <td>off</td>\n",
              "      <td>119</td>\n",
              "    </tr>\n",
              "    <tr>\n",
              "      <th>16</th>\n",
              "      <td>day_time</td>\n",
              "      <td>102</td>\n",
              "    </tr>\n",
              "    <tr>\n",
              "      <th>17</th>\n",
              "      <td>peak_time</td>\n",
              "      <td>87</td>\n",
              "    </tr>\n",
              "    <tr>\n",
              "      <th>9</th>\n",
              "      <td>weather_type</td>\n",
              "      <td>27</td>\n",
              "    </tr>\n",
              "    <tr>\n",
              "      <th>15</th>\n",
              "      <td>holiday</td>\n",
              "      <td>18</td>\n",
              "    </tr>\n",
              "    <tr>\n",
              "      <th>7</th>\n",
              "      <td>snow_p_h</td>\n",
              "      <td>9</td>\n",
              "    </tr>\n",
              "  </tbody>\n",
              "</table>\n",
              "</div>"
            ],
            "text/plain": [
              "                    col  importance\n",
              "12                 date        1537\n",
              "5           temperature        1459\n",
              "11                 hour        1018\n",
              "14                month         932\n",
              "3        wind_direction         827\n",
              "13              weekday         709\n",
              "1              humidity         654\n",
              "0   air_pollution_index         308\n",
              "2            wind_speed         289\n",
              "10  weather_description         253\n",
              "8            clouds_all         248\n",
              "6              rain_p_h         171\n",
              "4             dew_point         133\n",
              "18                  off         119\n",
              "16             day_time         102\n",
              "17            peak_time          87\n",
              "9          weather_type          27\n",
              "15              holiday          18\n",
              "7              snow_p_h           9"
            ]
          },
          "metadata": {
            "tags": []
          },
          "execution_count": 261
        }
      ]
    },
    {
      "cell_type": "code",
      "metadata": {
        "id": "-7d3CAn5-9qR",
        "colab_type": "code",
        "colab": {}
      },
      "source": [
        "hist = HistGradientBoostingRegressor()\n",
        "hist.fit(xtrain, ytrain)\n",
        "pred = hist.predict(xvalid)"
      ],
      "execution_count": 0,
      "outputs": []
    },
    {
      "cell_type": "code",
      "metadata": {
        "id": "t2tN1RjG_O5h",
        "colab_type": "code",
        "outputId": "587695f6-24e4-4afe-d98e-86247654c49f",
        "colab": {
          "base_uri": "https://localhost:8080/",
          "height": 69
        }
      },
      "source": [
        "rmsle(yvalid, pred), 100-msle(yvalid, pred)"
      ],
      "execution_count": 0,
      "outputs": [
        {
          "output_type": "stream",
          "text": [
            "/usr/local/lib/python3.6/dist-packages/ml_metrics/elementwise.py:200: RuntimeWarning: invalid value encountered in log\n",
            "  np.log(np.array(predicted)+1), 2))\n"
          ],
          "name": "stderr"
        },
        {
          "output_type": "execute_result",
          "data": {
            "text/plain": [
              "(nan, nan)"
            ]
          },
          "metadata": {
            "tags": []
          },
          "execution_count": 249
        }
      ]
    },
    {
      "cell_type": "code",
      "metadata": {
        "id": "oORVlvlcvC8c",
        "colab_type": "code",
        "outputId": "2a93aa3b-6c1e-42ee-897e-79ebcd0bec66",
        "colab": {
          "base_uri": "https://localhost:8080/",
          "height": 173
        }
      },
      "source": [
        "clf = LGBMRegressor(num_leaves=90)\n",
        "clf.fit(train, y, categorical_feature=cat_cols)"
      ],
      "execution_count": 0,
      "outputs": [
        {
          "output_type": "stream",
          "text": [
            "/usr/local/lib/python3.6/dist-packages/lightgbm/basic.py:1209: UserWarning: categorical_feature in Dataset is overridden.\n",
            "New categorical_feature is [8, 9, 10, 11, 12, 13, 14, 15, 16, 17]\n",
            "  'New categorical_feature is {}'.format(sorted(list(categorical_feature))))\n"
          ],
          "name": "stderr"
        },
        {
          "output_type": "execute_result",
          "data": {
            "text/plain": [
              "LGBMRegressor(boosting_type='gbdt', class_weight=None, colsample_bytree=1.0,\n",
              "              importance_type='split', learning_rate=0.1, max_depth=-1,\n",
              "              min_child_samples=20, min_child_weight=0.001, min_split_gain=0.0,\n",
              "              n_estimators=100, n_jobs=-1, num_leaves=90, objective=None,\n",
              "              random_state=None, reg_alpha=0.0, reg_lambda=0.0, silent=True,\n",
              "              subsample=1.0, subsample_for_bin=200000, subsample_freq=0)"
            ]
          },
          "metadata": {
            "tags": []
          },
          "execution_count": 142
        }
      ]
    },
    {
      "cell_type": "code",
      "metadata": {
        "id": "8mkZPgQoviJq",
        "colab_type": "code",
        "colab": {}
      },
      "source": [
        "predictions = clf.predict(test)\n",
        "# predictions=np.power(predictions,3)"
      ],
      "execution_count": 0,
      "outputs": []
    },
    {
      "cell_type": "code",
      "metadata": {
        "id": "l8zBRmlxvqpZ",
        "colab_type": "code",
        "outputId": "ad17eb47-2f48-4ef2-9381-85944c2a9fd8",
        "colab": {
          "base_uri": "https://localhost:8080/",
          "height": 207
        }
      },
      "source": [
        "sub = pd.DataFrame()\n",
        "sub['date_time'] = pd.read_csv('DataSets/Test.csv')['date_time']\n",
        "sub['traffic_volume'] = predictions\n",
        "sub.head()"
      ],
      "execution_count": 0,
      "outputs": [
        {
          "output_type": "execute_result",
          "data": {
            "text/html": [
              "<div>\n",
              "<style scoped>\n",
              "    .dataframe tbody tr th:only-of-type {\n",
              "        vertical-align: middle;\n",
              "    }\n",
              "\n",
              "    .dataframe tbody tr th {\n",
              "        vertical-align: top;\n",
              "    }\n",
              "\n",
              "    .dataframe thead th {\n",
              "        text-align: right;\n",
              "    }\n",
              "</style>\n",
              "<table border=\"1\" class=\"dataframe\">\n",
              "  <thead>\n",
              "    <tr style=\"text-align: right;\">\n",
              "      <th></th>\n",
              "      <th>date_time</th>\n",
              "      <th>traffic_volume</th>\n",
              "    </tr>\n",
              "  </thead>\n",
              "  <tbody>\n",
              "    <tr>\n",
              "      <th>0</th>\n",
              "      <td>2017-05-18 00:00:00</td>\n",
              "      <td>653.187530</td>\n",
              "    </tr>\n",
              "    <tr>\n",
              "      <th>1</th>\n",
              "      <td>2017-05-18 00:00:00</td>\n",
              "      <td>670.551085</td>\n",
              "    </tr>\n",
              "    <tr>\n",
              "      <th>2</th>\n",
              "      <td>2017-05-18 00:00:00</td>\n",
              "      <td>647.140415</td>\n",
              "    </tr>\n",
              "    <tr>\n",
              "      <th>3</th>\n",
              "      <td>2017-05-18 01:00:00</td>\n",
              "      <td>402.425638</td>\n",
              "    </tr>\n",
              "    <tr>\n",
              "      <th>4</th>\n",
              "      <td>2017-05-18 01:00:00</td>\n",
              "      <td>418.430748</td>\n",
              "    </tr>\n",
              "  </tbody>\n",
              "</table>\n",
              "</div>"
            ],
            "text/plain": [
              "             date_time  traffic_volume\n",
              "0  2017-05-18 00:00:00      653.187530\n",
              "1  2017-05-18 00:00:00      670.551085\n",
              "2  2017-05-18 00:00:00      647.140415\n",
              "3  2017-05-18 01:00:00      402.425638\n",
              "4  2017-05-18 01:00:00      418.430748"
            ]
          },
          "metadata": {
            "tags": []
          },
          "execution_count": 144
        }
      ]
    },
    {
      "cell_type": "code",
      "metadata": {
        "id": "reYqzmwCF_yZ",
        "colab_type": "code",
        "outputId": "89242d19-3a19-49a8-d800-8e6c69853f7c",
        "colab": {
          "base_uri": "https://localhost:8080/",
          "height": 207
        }
      },
      "source": [
        "sub = pd.DataFrame()\n",
        "sub['date_time'] = pd.read_csv('DataSets/Test.csv')['date_time']\n",
        "sub['traffic_volume'] = predictions\n",
        "sub.head()"
      ],
      "execution_count": 0,
      "outputs": [
        {
          "output_type": "execute_result",
          "data": {
            "text/html": [
              "<div>\n",
              "<style scoped>\n",
              "    .dataframe tbody tr th:only-of-type {\n",
              "        vertical-align: middle;\n",
              "    }\n",
              "\n",
              "    .dataframe tbody tr th {\n",
              "        vertical-align: top;\n",
              "    }\n",
              "\n",
              "    .dataframe thead th {\n",
              "        text-align: right;\n",
              "    }\n",
              "</style>\n",
              "<table border=\"1\" class=\"dataframe\">\n",
              "  <thead>\n",
              "    <tr style=\"text-align: right;\">\n",
              "      <th></th>\n",
              "      <th>date_time</th>\n",
              "      <th>traffic_volume</th>\n",
              "    </tr>\n",
              "  </thead>\n",
              "  <tbody>\n",
              "    <tr>\n",
              "      <th>0</th>\n",
              "      <td>2017-05-18 00:00:00</td>\n",
              "      <td>745.656608</td>\n",
              "    </tr>\n",
              "    <tr>\n",
              "      <th>1</th>\n",
              "      <td>2017-05-18 00:00:00</td>\n",
              "      <td>781.369125</td>\n",
              "    </tr>\n",
              "    <tr>\n",
              "      <th>2</th>\n",
              "      <td>2017-05-18 00:00:00</td>\n",
              "      <td>752.732761</td>\n",
              "    </tr>\n",
              "    <tr>\n",
              "      <th>3</th>\n",
              "      <td>2017-05-18 01:00:00</td>\n",
              "      <td>548.328809</td>\n",
              "    </tr>\n",
              "    <tr>\n",
              "      <th>4</th>\n",
              "      <td>2017-05-18 01:00:00</td>\n",
              "      <td>574.258508</td>\n",
              "    </tr>\n",
              "  </tbody>\n",
              "</table>\n",
              "</div>"
            ],
            "text/plain": [
              "             date_time  traffic_volume\n",
              "0  2017-05-18 00:00:00      745.656608\n",
              "1  2017-05-18 00:00:00      781.369125\n",
              "2  2017-05-18 00:00:00      752.732761\n",
              "3  2017-05-18 01:00:00      548.328809\n",
              "4  2017-05-18 01:00:00      574.258508"
            ]
          },
          "metadata": {
            "tags": []
          },
          "execution_count": 61
        }
      ]
    },
    {
      "cell_type": "code",
      "metadata": {
        "id": "XhPytl4Mv_e9",
        "colab_type": "code",
        "colab": {}
      },
      "source": [
        "sub.to_csv('LGB_baseline_month_num_leaves_90_outlier_sigma_3.5.csv', index=False)"
      ],
      "execution_count": 0,
      "outputs": []
    },
    {
      "cell_type": "code",
      "metadata": {
        "id": "rjw8LwbAFTm0",
        "colab_type": "code",
        "colab": {}
      },
      "source": [
        "y_t=np.sqrt(y)"
      ],
      "execution_count": 0,
      "outputs": []
    },
    {
      "cell_type": "code",
      "metadata": {
        "id": "7LmpmsGEgGQZ",
        "colab_type": "code",
        "colab": {}
      },
      "source": [
        "xtrain, xvalid = train[:-6730], train[-6730:]\n",
        "\n",
        "ytrain, yvalid = y_t[:-6730], y_t[-6730:]"
      ],
      "execution_count": 0,
      "outputs": []
    },
    {
      "cell_type": "code",
      "metadata": {
        "id": "W6noFUXiYhr3",
        "colab_type": "code",
        "outputId": "9f2c4ff6-bc32-409a-ad36-db9f47ee5e58",
        "colab": {
          "base_uri": "https://localhost:8080/",
          "height": 69
        }
      },
      "source": [
        "lgb = LGBMRegressor(num_leaves=90)\n",
        "lgb.fit(xtrain, ytrain, categorical_feature=cat_cols)\n",
        "pred = lgb.predict(xvalid)"
      ],
      "execution_count": 0,
      "outputs": [
        {
          "output_type": "stream",
          "text": [
            "/usr/local/lib/python3.6/dist-packages/lightgbm/basic.py:1209: UserWarning: categorical_feature in Dataset is overridden.\n",
            "New categorical_feature is [8, 9, 10, 11, 12, 13, 14, 15, 16, 17]\n",
            "  'New categorical_feature is {}'.format(sorted(list(categorical_feature))))\n"
          ],
          "name": "stderr"
        }
      ]
    },
    {
      "cell_type": "code",
      "metadata": {
        "id": "kX7CCrtqYjJN",
        "colab_type": "code",
        "outputId": "133c5703-c6ec-4199-e876-62fee684eefa",
        "colab": {
          "base_uri": "https://localhost:8080/",
          "height": 34
        }
      },
      "source": [
        "100-rmsle(yvalid, pred),100-msle(yvalid, pred)"
      ],
      "execution_count": 0,
      "outputs": [
        {
          "output_type": "execute_result",
          "data": {
            "text/plain": [
              "(99.92195273460516, 99.9939086243644)"
            ]
          },
          "metadata": {
            "tags": []
          },
          "execution_count": 173
        }
      ]
    },
    {
      "cell_type": "code",
      "metadata": {
        "id": "yvVY1CsTFTZ5",
        "colab_type": "code",
        "colab": {}
      },
      "source": [
        "value_ = pd.read_csv('LGB_baseline.csv')['traffic_volume']\n",
        "value_sqrt = pd.read_csv('LGB_baseline_sqrt.csv')['traffic_volume']"
      ],
      "execution_count": 0,
      "outputs": []
    },
    {
      "cell_type": "code",
      "metadata": {
        "id": "uAMagQ2E57RN",
        "colab_type": "code",
        "colab": {}
      },
      "source": [
        "avg=(0.6*value_sqrt)+(0.4*value_)"
      ],
      "execution_count": 0,
      "outputs": []
    },
    {
      "cell_type": "code",
      "metadata": {
        "id": "a5Bye-HjHOWR",
        "colab_type": "code",
        "outputId": "7f622679-72d6-4a5f-8f2e-f05484253674",
        "colab": {
          "base_uri": "https://localhost:8080/",
          "height": 207
        }
      },
      "source": [
        "sub = pd.DataFrame()\n",
        "sub['date_time'] = pd.read_csv('DataSets/Test.csv')['date_time']\n",
        "sub['traffic_volume'] = avg\n",
        "sub.head()"
      ],
      "execution_count": 0,
      "outputs": [
        {
          "output_type": "execute_result",
          "data": {
            "text/html": [
              "<div>\n",
              "<style scoped>\n",
              "    .dataframe tbody tr th:only-of-type {\n",
              "        vertical-align: middle;\n",
              "    }\n",
              "\n",
              "    .dataframe tbody tr th {\n",
              "        vertical-align: top;\n",
              "    }\n",
              "\n",
              "    .dataframe thead th {\n",
              "        text-align: right;\n",
              "    }\n",
              "</style>\n",
              "<table border=\"1\" class=\"dataframe\">\n",
              "  <thead>\n",
              "    <tr style=\"text-align: right;\">\n",
              "      <th></th>\n",
              "      <th>date_time</th>\n",
              "      <th>traffic_volume</th>\n",
              "    </tr>\n",
              "  </thead>\n",
              "  <tbody>\n",
              "    <tr>\n",
              "      <th>0</th>\n",
              "      <td>2017-05-18 00:00:00</td>\n",
              "      <td>696.341452</td>\n",
              "    </tr>\n",
              "    <tr>\n",
              "      <th>1</th>\n",
              "      <td>2017-05-18 00:00:00</td>\n",
              "      <td>691.722673</td>\n",
              "    </tr>\n",
              "    <tr>\n",
              "      <th>2</th>\n",
              "      <td>2017-05-18 00:00:00</td>\n",
              "      <td>697.694867</td>\n",
              "    </tr>\n",
              "    <tr>\n",
              "      <th>3</th>\n",
              "      <td>2017-05-18 01:00:00</td>\n",
              "      <td>420.351714</td>\n",
              "    </tr>\n",
              "    <tr>\n",
              "      <th>4</th>\n",
              "      <td>2017-05-18 01:00:00</td>\n",
              "      <td>436.803266</td>\n",
              "    </tr>\n",
              "  </tbody>\n",
              "</table>\n",
              "</div>"
            ],
            "text/plain": [
              "             date_time  traffic_volume\n",
              "0  2017-05-18 00:00:00      696.341452\n",
              "1  2017-05-18 00:00:00      691.722673\n",
              "2  2017-05-18 00:00:00      697.694867\n",
              "3  2017-05-18 01:00:00      420.351714\n",
              "4  2017-05-18 01:00:00      436.803266"
            ]
          },
          "metadata": {
            "tags": []
          },
          "execution_count": 78
        }
      ]
    },
    {
      "cell_type": "code",
      "metadata": {
        "id": "-0sLZSLhHP7G",
        "colab_type": "code",
        "colab": {}
      },
      "source": [
        "sub.to_csv('LGB_6_sqrt_4_baseline.csv', index=False)"
      ],
      "execution_count": 0,
      "outputs": []
    },
    {
      "cell_type": "code",
      "metadata": {
        "id": "669Q3okRLuR1",
        "colab_type": "code",
        "colab": {}
      },
      "source": [
        "def find_outliers(model, X, y, sigma=3.5):\n",
        "\n",
        "    # predict y values using model\n",
        "    try:\n",
        "        y_pred = pd.Series(model.predict(X), index=y.index)\n",
        "    # if predicting fails, try fitting the model first\n",
        "    except:\n",
        "        model.fit(X,y)\n",
        "        y_pred = pd.Series(model.predict(X), index=y.index)\n",
        "        \n",
        "    # calculate residuals between the model prediction and true y values\n",
        "    resid = y - y_pred\n",
        "    mean_resid = resid.mean()\n",
        "    std_resid = resid.std()\n",
        "\n",
        "    # calculate z statistic, define outliers to be where |z|>sigma\n",
        "    z = (resid - mean_resid)/std_resid    \n",
        "    outliers = z[abs(z)>sigma].index\n",
        "    \n",
        "    # print and plot the results\n",
        "    print('R2=',model.score(X,y))\n",
        "    print('rmsle=',rmsle(y, y_pred))\n",
        "    print('---------------------------------------')\n",
        "\n",
        "    print('mean of residuals:',mean_resid)\n",
        "    print('std of residuals:',std_resid)\n",
        "    print('---------------------------------------')\n",
        "\n",
        "    print(len(outliers),'outliers:')\n",
        "    print(outliers.tolist())\n",
        "\n",
        "    plt.figure(figsize=(15,5))\n",
        "    ax_131 = plt.subplot(1,3,1)\n",
        "    plt.plot(y,y_pred,'.')\n",
        "    plt.plot(y.loc[outliers],y_pred.loc[outliers],'ro')\n",
        "    plt.legend(['Accepted','Outlier'])\n",
        "    plt.xlabel('y')\n",
        "    plt.ylabel('y_pred');\n",
        "\n",
        "    ax_132=plt.subplot(1,3,2)\n",
        "    plt.plot(y,y-y_pred,'.')\n",
        "    plt.plot(y.loc[outliers],y.loc[outliers]-y_pred.loc[outliers],'ro')\n",
        "    plt.legend(['Accepted','Outlier'])\n",
        "    plt.xlabel('y')\n",
        "    plt.ylabel('y - y_pred');\n",
        "\n",
        "    ax_133=plt.subplot(1,3,3)\n",
        "    z.plot.hist(bins=50,ax=ax_133)\n",
        "    z.loc[outliers].plot.hist(color='r',bins=50,ax=ax_133)\n",
        "    plt.legend(['Accepted','Outlier'])\n",
        "    plt.xlabel('z')\n",
        "    \n",
        "    plt.savefig('outliers.png')\n",
        "    \n",
        "    return outliers"
      ],
      "execution_count": 0,
      "outputs": []
    },
    {
      "cell_type": "code",
      "metadata": {
        "id": "r16Qg7MZS5Yu",
        "colab_type": "code",
        "outputId": "2afc2597-aa09-4d44-fe84-9af0548b545f",
        "colab": {
          "base_uri": "https://localhost:8080/",
          "height": 531
        }
      },
      "source": [
        "outliers = find_outliers(LGBMRegressor(), train, y)"
      ],
      "execution_count": 0,
      "outputs": [
        {
          "output_type": "stream",
          "text": [
            "R2= 0.97069996189438\n",
            "rmsle= nan\n",
            "---------------------------------------\n",
            "mean of residuals: -6.852304405697798e-09\n",
            "std of residuals: 340.77713321021093\n",
            "---------------------------------------\n",
            "397 outliers:\n",
            "[111, 115, 116, 696, 697, 1122, 1131, 1132, 1133, 1147, 1375, 1376, 1377, 1378, 1386, 1401, 1551, 1725, 1832, 2353, 2365, 2377, 2564, 2566, 3195, 3196, 3241, 3400, 3465, 3615, 3618, 3692, 3785, 3786, 4047, 4056, 4075, 4076, 4077, 4078, 4079, 4080, 4137, 4286, 4396, 4464, 4483, 4489, 4587, 4875, 4992, 4993, 4994, 4996, 4997, 4998, 4999, 5102, 5233, 5234, 5235, 5236, 5237, 5238, 5245, 5246, 5451, 5452, 5536, 5792, 5846, 6435, 6436, 6437, 6438, 6517, 6518, 7419, 7420, 7421, 7422, 7430, 7431, 7437, 7690, 7771, 8583, 8746, 8747, 8748, 8749, 8750, 8782, 8905, 9246, 9300, 9313, 9314, 9318, 9450, 9654, 9655, 9836, 10050, 10060, 10066, 10186, 10187, 10188, 10189, 10195, 10196, 10197, 10210, 10211, 10250, 10392, 10393, 10416, 10417, 10587, 10759, 10944, 10965, 10966, 11127, 11137, 11139, 11262, 11263, 11458, 11459, 11460, 11878, 11879, 11961, 12134, 12310, 12311, 12312, 12313, 12314, 12315, 12319, 12391, 12392, 12393, 12405, 12406, 12407, 12408, 12409, 12410, 12411, 12414, 12415, 12416, 12641, 12802, 12826, 12850, 12946, 13108, 13209, 13409, 13410, 13411, 13413, 13521, 13832, 13906, 13944, 13945, 13946, 13947, 13948, 13949, 14002, 14075, 14182, 14311, 14650, 14651, 14652, 14653, 14654, 14661, 14662, 15220, 15221, 15222, 15223, 15231, 16179, 16209, 16210, 16211, 16212, 16221, 16265, 16266, 16837, 16838, 16849, 16850, 17093, 17327, 18046, 18047, 18048, 18049, 18057, 18058, 18106, 18107, 18202, 18203, 18204, 18205, 18206, 18207, 18208, 18209, 18210, 18211, 18212, 18288, 18631, 18720, 18773, 18774, 18887, 18909, 18910, 18912, 18915, 18916, 19143, 19342, 19409, 19620, 19654, 19679, 19700, 19701, 19722, 19733, 20021, 20109, 20131, 20146, 20190, 20191, 20194, 20198, 20349, 20350, 20351, 20352, 20353, 20991, 20992, 20994, 21282, 21418, 21925, 22259, 22365, 22547, 22548, 22620, 22621, 22622, 22663, 22747, 22748, 22749, 22750, 22918, 22919, 22920, 22921, 23790, 23791, 23792, 23793, 23794, 23795, 23796, 23797, 23805, 24659, 24660, 24661, 24662, 24670, 24676, 24818, 24819, 24820, 24821, 25154, 25155, 25156, 25157, 25163, 25164, 25167, 25178, 25179, 25184, 25185, 25186, 25187, 25188, 25189, 25190, 25191, 25204, 25205, 25206, 25207, 25208, 25209, 25210, 25211, 25219, 25338, 25339, 25340, 25349, 25359, 25360, 25361, 25362, 25385, 25386, 25617, 26332, 26333, 26334, 26335, 26343, 26344, 26345, 26432, 26438, 26462, 27210, 27319, 27360, 27417, 27518, 28115, 28127, 28246, 28404, 28405, 28451, 28453, 28964, 29045, 29109, 29190, 29191, 29192, 29194, 29510, 29511, 29646, 29680, 29681, 29957, 30001, 30338, 30339, 30879, 30979, 31023, 31119, 31352, 31400, 31401, 31855, 31927, 32147, 32171, 32278, 32386, 32623, 32624, 32625, 32686, 32687, 32747, 33548, 33617]\n"
          ],
          "name": "stdout"
        },
        {
          "output_type": "stream",
          "text": [
            "/usr/local/lib/python3.6/dist-packages/ml_metrics/elementwise.py:200: RuntimeWarning: invalid value encountered in log\n",
            "  np.log(np.array(predicted)+1), 2))\n"
          ],
          "name": "stderr"
        },
        {
          "output_type": "display_data",
          "data": {
            "image/png": "[encoded data removed]",
            "text/plain": [
              "<Figure size 1080x360 with 3 Axes>"
            ]
          },
          "metadata": {
            "tags": []
          }
        }
      ]
    },
    {
      "cell_type": "code",
      "metadata": {
        "id": "CXS2q6HATCOP",
        "colab_type": "code",
        "colab": {}
      },
      "source": [
        "train.drop(outliers,inplace=True)"
      ],
      "execution_count": 0,
      "outputs": []
    },
    {
      "cell_type": "code",
      "metadata": {
        "id": "kyEE3492TUfB",
        "colab_type": "code",
        "colab": {}
      },
      "source": [
        "y.drop(outliers,inplace=True)"
      ],
      "execution_count": 0,
      "outputs": []
    },
    {
      "cell_type": "code",
      "metadata": {
        "id": "Yt0ImmZfTbKE",
        "colab_type": "code",
        "colab": {}
      },
      "source": [
        "train.drop('traffic_volume',1,inplace=True)"
      ],
      "execution_count": 0,
      "outputs": []
    },
    {
      "cell_type": "code",
      "metadata": {
        "id": "6Cr5ttvQVMLR",
        "colab_type": "code",
        "colab": {}
      },
      "source": [
        ""
      ],
      "execution_count": 0,
      "outputs": []
    }
  ]
}