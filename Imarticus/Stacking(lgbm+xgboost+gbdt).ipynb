{
 "cells": [
  {
   "cell_type": "code",
   "execution_count": 97,
   "metadata": {
    "scrolled": true
   },
   "outputs": [],
   "source": [
    "import numpy as np\n",
    "import pandas as pd\n",
    "\n",
    "from matplotlib import pyplot as plt\n",
    "import matplotlib\n",
    "%matplotlib inline\n",
    "import seaborn as sns\n",
    "import pandas_profiling\n",
    "matplotlib.rc('xtick', labelsize=20) \n",
    "matplotlib.rc('ytick', labelsize=20)\n",
    "from sklearn.model_selection import train_test_split\n",
    "from sklearn.linear_model import SGDClassifier\n",
    "from sklearn.metrics import f1_score, log_loss\n",
    "from sklearn.neural_network import MLPClassifier\n",
    "from sklearn.neighbors import KNeighborsClassifier\n",
    "from sklearn.svm import SVC\n",
    "from sklearn.gaussian_process.kernels import RBF\n",
    "from sklearn.ensemble import RandomForestClassifier, AdaBoostClassifier\n",
    "from sklearn.naive_bayes import GaussianNB\n",
    "from xgboost.sklearn import XGBClassifier\n",
    "from sklearn.ensemble import ExtraTreesClassifier\n",
    "from sklearn.model_selection import GridSearchCV\n",
    "from sklearn.ensemble import BaggingClassifier\n",
    "from sklearn.model_selection import KFold\n",
    "from sklearn import metrics\n",
    "from sklearn.feature_selection import SelectKBest \n",
    "from sklearn.feature_selection import chi2\n",
    "import collections\n",
    "import warnings\n",
    "warnings.filterwarnings('ignore')\n",
    "%matplotlib inline\n",
    "from collections import Counter\n"
   ]
  },
  {
   "cell_type": "code",
   "execution_count": 98,
   "metadata": {
    "scrolled": false
   },
   "outputs": [],
   "source": [
    "x1=pd.ExcelFile(r'Data_Train.xlsx')\n",
    "x2=pd.ExcelFile(r'Data_Test.xlsx')"
   ]
  },
  {
   "cell_type": "code",
   "execution_count": 99,
   "metadata": {},
   "outputs": [],
   "source": [
    "columns_read=['Name','Location','Year','Kilometers_Driven','Fuel_Type','Transmission','Owner_Type','Mileage','Engine','Power'\n",
    "             ,'Seats','New_Price','Price']\n",
    "columns_readt=['Name','Location','Year','Kilometers_Driven','Fuel_Type','Transmission','Owner_Type','Mileage','Engine','Power'\n",
    "             ,'Seats','New_Price']"
   ]
  },
  {
   "cell_type": "code",
   "execution_count": 100,
   "metadata": {
    "scrolled": true
   },
   "outputs": [],
   "source": [
    "ds_input = x1.parse(u'Sheet1',names=columns_read)\n",
    "dst_input = x2.parse(u'Sheet1',names=columns_readt)"
   ]
  },
  {
   "cell_type": "code",
   "execution_count": 101,
   "metadata": {},
   "outputs": [
    {
     "name": "stdout",
     "output_type": "stream",
     "text": [
      "<class 'pandas.core.frame.DataFrame'>\n",
      "Int64Index: 6019 entries, 0 to 6018\n",
      "Data columns (total 13 columns):\n",
      "Name                 6019 non-null object\n",
      "Location             6019 non-null object\n",
      "Year                 6019 non-null int64\n",
      "Kilometers_Driven    6019 non-null int64\n",
      "Fuel_Type            6019 non-null object\n",
      "Transmission         6019 non-null object\n",
      "Owner_Type           6019 non-null object\n",
      "Mileage              6017 non-null object\n",
      "Engine               5983 non-null object\n",
      "Power                5983 non-null object\n",
      "Seats                5977 non-null float64\n",
      "New_Price            824 non-null object\n",
      "Price                6019 non-null float64\n",
      "dtypes: float64(2), int64(2), object(9)\n",
      "memory usage: 658.3+ KB\n"
     ]
    }
   ],
   "source": [
    "ds_input =ds_input.drop_duplicates()\n",
    "ds_input.info()"
   ]
  },
  {
   "cell_type": "code",
   "execution_count": 102,
   "metadata": {},
   "outputs": [],
   "source": [
    "y_train = ds_input['Price']\n",
    "train_nomissing = ds_input.drop('Price',axis=1)\n",
    "test_nomissing = dst_input\n",
    "combined_set = pd.concat([train_nomissing, test_nomissing], axis = 0) # Stacks them vertically"
   ]
  },
  {
   "cell_type": "code",
   "execution_count": 103,
   "metadata": {
    "scrolled": false
   },
   "outputs": [
    {
     "name": "stdout",
     "output_type": "stream",
     "text": [
      "<class 'pandas.core.frame.DataFrame'>\n",
      "Int64Index: 7253 entries, 0 to 1233\n",
      "Data columns (total 12 columns):\n",
      "Name                 7253 non-null object\n",
      "Location             7253 non-null object\n",
      "Year                 7253 non-null int64\n",
      "Kilometers_Driven    7253 non-null int64\n",
      "Fuel_Type            7253 non-null object\n",
      "Transmission         7253 non-null object\n",
      "Owner_Type           7253 non-null object\n",
      "Mileage              7251 non-null object\n",
      "Engine               7207 non-null object\n",
      "Power                7207 non-null object\n",
      "Seats                7200 non-null float64\n",
      "New_Price            1006 non-null object\n",
      "dtypes: float64(1), int64(2), object(9)\n",
      "memory usage: 736.6+ KB\n"
     ]
    }
   ],
   "source": [
    " combined_set.info()"
   ]
  },
  {
   "cell_type": "code",
   "execution_count": 104,
   "metadata": {},
   "outputs": [],
   "source": [
    "combined_set[\"Power\"] = combined_set[\"Power\"].str.replace('null bhp','0 bhp')\n",
    "combined_set[\"Power\"].fillna('0 bhp',inplace=True)\n",
    "combined_set[\"Mileage\"].fillna('0.0 kmpl',inplace=True)\n",
    "combined_set[\"Engine\"].fillna('0 CC',inplace=True)\n",
    "combined_set[\"Seats\"].fillna(0,inplace=True)"
   ]
  },
  {
   "cell_type": "code",
   "execution_count": 105,
   "metadata": {},
   "outputs": [],
   "source": [
    "#spliting mileage\n",
    "ds_mil = combined_set[\"Mileage\"].str.split(\" \",n=1,expand=True)\n",
    "ds_mil1 = ds_mil[0].str.split(\".\",n=1,expand=True)\n",
    "combined_set[\"Mileage\"]=ds_mil1[0].astype(str).astype(int)"
   ]
  },
  {
   "cell_type": "code",
   "execution_count": 106,
   "metadata": {},
   "outputs": [],
   "source": [
    "ds_eng = combined_set[\"Engine\"].str.split(\" \",n=1,expand=True)\n",
    "combined_set[\"Engine\"]=ds_eng[0].astype(str).astype(int)"
   ]
  },
  {
   "cell_type": "code",
   "execution_count": 107,
   "metadata": {},
   "outputs": [],
   "source": [
    "ds_pwr = combined_set[\"Power\"].str.split(\" \",n=1,expand=True)\n",
    "ds_pwr1 = ds_pwr[0].str.split(\".\",n=1,expand=True)\n",
    "\n",
    "combined_set[\"Power\"]=ds_pwr1[0].astype(str).astype(int)"
   ]
  },
  {
   "cell_type": "code",
   "execution_count": 108,
   "metadata": {},
   "outputs": [],
   "source": [
    "combined_set[\"New_Price\"]= combined_set[\"New_Price\"].replace(np.nan,'0 Lakh')\n",
    "\n",
    "ds_prc = combined_set[\"New_Price\"].str.split(\" \",n=1,expand=True)\n",
    "combined_set[\"cur\"]=ds_prc[1].astype(str)"
   ]
  },
  {
   "cell_type": "code",
   "execution_count": 109,
   "metadata": {},
   "outputs": [],
   "source": [
    "ds_prc1 = ds_prc[0].str.split(\".\",n=1,expand=True)\n",
    "combined_set[\"New_Price\"]=ds_prc1[0].astype(str).astype(int)"
   ]
  },
  {
   "cell_type": "code",
   "execution_count": 110,
   "metadata": {},
   "outputs": [],
   "source": [
    "def cal_cur(val_cur):\n",
    "    val,cur = val_cur\n",
    "    if cur=='Cr':\n",
    "        val = val*100\n",
    "    return val\n",
    "\n",
    "combined_set[\"New_Price\"] = combined_set[[\"New_Price\",'cur']].apply(cal_cur, axis=1)"
   ]
  },
  {
   "cell_type": "code",
   "execution_count": 111,
   "metadata": {},
   "outputs": [],
   "source": [
    "combined_set[\"Name2\"]=combined_set[\"Name\"].apply(lambda x:' '.join(x.split()[:2]))\n",
    "combined_set[\"Name1\"]=combined_set[\"Name\"].apply(lambda x:' '.join(x.split()[:1]))"
   ]
  },
  {
   "cell_type": "code",
   "execution_count": 112,
   "metadata": {
    "scrolled": false
   },
   "outputs": [],
   "source": [
    "combined_set['Name2'] = combined_set['Name2'].apply(lambda x: \" \".join(x.lower() for x in x.split()))\n",
    "combined_set['Name'] = combined_set['Name'].apply(lambda x: \" \".join(x.lower() for x in x.split()))\n",
    "combined_set['Name1'] = combined_set['Name1'].apply(lambda x: \" \".join(x.lower() for x in x.split()))\n"
   ]
  },
  {
   "cell_type": "code",
   "execution_count": 113,
   "metadata": {},
   "outputs": [
    {
     "data": {
      "text/html": [
       "<div>\n",
       "<style scoped>\n",
       "    .dataframe tbody tr th:only-of-type {\n",
       "        vertical-align: middle;\n",
       "    }\n",
       "\n",
       "    .dataframe tbody tr th {\n",
       "        vertical-align: top;\n",
       "    }\n",
       "\n",
       "    .dataframe thead th {\n",
       "        text-align: right;\n",
       "    }\n",
       "</style>\n",
       "<table border=\"1\" class=\"dataframe\">\n",
       "  <thead>\n",
       "    <tr style=\"text-align: right;\">\n",
       "      <th></th>\n",
       "      <th>Name</th>\n",
       "      <th>Location</th>\n",
       "      <th>Year</th>\n",
       "      <th>Kilometers_Driven</th>\n",
       "      <th>Fuel_Type</th>\n",
       "      <th>Transmission</th>\n",
       "      <th>Owner_Type</th>\n",
       "      <th>Mileage</th>\n",
       "      <th>Engine</th>\n",
       "      <th>Power</th>\n",
       "      <th>Seats</th>\n",
       "      <th>New_Price</th>\n",
       "      <th>cur</th>\n",
       "      <th>Name2</th>\n",
       "      <th>Name1</th>\n",
       "    </tr>\n",
       "  </thead>\n",
       "  <tbody>\n",
       "    <tr>\n",
       "      <th>0</th>\n",
       "      <td>maruti wagon r lxi cng</td>\n",
       "      <td>Mumbai</td>\n",
       "      <td>2010</td>\n",
       "      <td>72000</td>\n",
       "      <td>CNG</td>\n",
       "      <td>Manual</td>\n",
       "      <td>First</td>\n",
       "      <td>26</td>\n",
       "      <td>998</td>\n",
       "      <td>58</td>\n",
       "      <td>5.0</td>\n",
       "      <td>0</td>\n",
       "      <td>Lakh</td>\n",
       "      <td>maruti wagon</td>\n",
       "      <td>maruti</td>\n",
       "    </tr>\n",
       "    <tr>\n",
       "      <th>1</th>\n",
       "      <td>hyundai creta 1.6 crdi sx option</td>\n",
       "      <td>Pune</td>\n",
       "      <td>2015</td>\n",
       "      <td>41000</td>\n",
       "      <td>Diesel</td>\n",
       "      <td>Manual</td>\n",
       "      <td>First</td>\n",
       "      <td>19</td>\n",
       "      <td>1582</td>\n",
       "      <td>126</td>\n",
       "      <td>5.0</td>\n",
       "      <td>0</td>\n",
       "      <td>Lakh</td>\n",
       "      <td>hyundai creta</td>\n",
       "      <td>hyundai</td>\n",
       "    </tr>\n",
       "    <tr>\n",
       "      <th>2</th>\n",
       "      <td>honda jazz v</td>\n",
       "      <td>Chennai</td>\n",
       "      <td>2011</td>\n",
       "      <td>46000</td>\n",
       "      <td>Petrol</td>\n",
       "      <td>Manual</td>\n",
       "      <td>First</td>\n",
       "      <td>18</td>\n",
       "      <td>1199</td>\n",
       "      <td>88</td>\n",
       "      <td>5.0</td>\n",
       "      <td>8</td>\n",
       "      <td>Lakh</td>\n",
       "      <td>honda jazz</td>\n",
       "      <td>honda</td>\n",
       "    </tr>\n",
       "  </tbody>\n",
       "</table>\n",
       "</div>"
      ],
      "text/plain": [
       "                               Name Location  Year  Kilometers_Driven  \\\n",
       "0            maruti wagon r lxi cng   Mumbai  2010              72000   \n",
       "1  hyundai creta 1.6 crdi sx option     Pune  2015              41000   \n",
       "2                      honda jazz v  Chennai  2011              46000   \n",
       "\n",
       "  Fuel_Type Transmission Owner_Type  Mileage  Engine  Power  Seats  New_Price  \\\n",
       "0       CNG       Manual      First       26     998     58    5.0          0   \n",
       "1    Diesel       Manual      First       19    1582    126    5.0          0   \n",
       "2    Petrol       Manual      First       18    1199     88    5.0          8   \n",
       "\n",
       "    cur          Name2    Name1  \n",
       "0  Lakh   maruti wagon   maruti  \n",
       "1  Lakh  hyundai creta  hyundai  \n",
       "2  Lakh     honda jazz    honda  "
      ]
     },
     "execution_count": 113,
     "metadata": {},
     "output_type": "execute_result"
    }
   ],
   "source": [
    "combined_set.head(3)"
   ]
  },
  {
   "cell_type": "code",
   "execution_count": 114,
   "metadata": {},
   "outputs": [],
   "source": [
    "combined_set[\"Power\"].replace(0,np.nan,inplace=True)\n",
    "combined_set[\"Mileage\"].replace(0,np.nan,inplace=True)\n",
    "combined_set[\"Engine\"].replace(0,np.nan,inplace=True)\n",
    "combined_set[\"Seats\"].replace(0,np.nan,inplace=True)\n",
    "combined_set[\"New_Price\"].replace(0,np.nan,inplace=True)"
   ]
  },
  {
   "cell_type": "code",
   "execution_count": 115,
   "metadata": {},
   "outputs": [],
   "source": [
    "by_Name=combined_set.groupby(['Name'])\n",
    "by_Name2=combined_set.groupby(['Name2'])\n",
    "by_Name1=combined_set.groupby(['Name1'])"
   ]
  },
  {
   "cell_type": "code",
   "execution_count": 116,
   "metadata": {},
   "outputs": [],
   "source": [
    "def impute_median(series):\n",
    "    return series.fillna(series.median())"
   ]
  },
  {
   "cell_type": "code",
   "execution_count": 117,
   "metadata": {},
   "outputs": [],
   "source": [
    "combined_set[\"Power\"]=by_Name['Power'].transform(impute_median)\n",
    "combined_set[\"Mileage\"]=by_Name['Mileage'].transform(impute_median)\n",
    "combined_set[\"Engine\"]=by_Name['Engine'].transform(impute_median)\n",
    "combined_set[\"Seats\"]=by_Name['Seats'].transform(impute_median)\n",
    "combined_set[\"New_Price\"]=by_Name['New_Price'].transform(impute_median)"
   ]
  },
  {
   "cell_type": "code",
   "execution_count": 118,
   "metadata": {},
   "outputs": [],
   "source": [
    "combined_set[\"Power\"]=by_Name2['Power'].transform(impute_median)\n",
    "combined_set[\"Mileage\"]=by_Name2['Mileage'].transform(impute_median)\n",
    "combined_set[\"Engine\"]=by_Name2['Engine'].transform(impute_median)\n",
    "combined_set[\"Seats\"]=by_Name2['Seats'].transform(impute_median)\n",
    "combined_set[\"New_Price\"]=by_Name2['New_Price'].transform(impute_median)"
   ]
  },
  {
   "cell_type": "code",
   "execution_count": 119,
   "metadata": {},
   "outputs": [],
   "source": [
    "combined_set[\"Power\"]=by_Name1['Power'].transform(impute_median)\n",
    "combined_set[\"Mileage\"]=by_Name1['Mileage'].transform(impute_median)\n",
    "combined_set[\"Engine\"]=by_Name1['Engine'].transform(impute_median)\n",
    "combined_set[\"Seats\"]=by_Name1['Seats'].transform(impute_median)"
   ]
  },
  {
   "cell_type": "code",
   "execution_count": 120,
   "metadata": {},
   "outputs": [],
   "source": [
    "combined_set['Mileage'].fillna(0,inplace= True)\n",
    "combined_set['Power'].fillna(0,inplace= True)\n",
    "combined_set['New_Price'].fillna(0,inplace= True)"
   ]
  },
  {
   "cell_type": "code",
   "execution_count": 121,
   "metadata": {},
   "outputs": [],
   "source": [
    "dummy1_combined_set=combined_set"
   ]
  },
  {
   "cell_type": "markdown",
   "metadata": {},
   "source": [
    "### Data exploration"
   ]
  },
  {
   "cell_type": "code",
   "execution_count": 122,
   "metadata": {},
   "outputs": [],
   "source": [
    "df_train =  pd.concat([combined_set[:train_nomissing.shape[0]],y_train], axis=1)\n",
    "dst_input = combined_set[train_nomissing.shape[0]:]"
   ]
  },
  {
   "cell_type": "code",
   "execution_count": 123,
   "metadata": {
    "scrolled": false
   },
   "outputs": [],
   "source": [
    "df_train['Kilometers_Driven'] =df_train['Kilometers_Driven'].apply(lambda x: 650000 if x>6000000 else x)\n",
    "df_train =df_train.drop(df_train.loc[(df_train['Fuel_Type']=='Electric') ].index.tolist()).reset_index(drop=True) \n",
    "df_train =df_train.drop(df_train.loc[(df_train['Name1']=='porsche') & (df_train['Price']<3)].index.tolist()).reset_index(drop=True)"
   ]
  },
  {
   "cell_type": "code",
   "execution_count": 124,
   "metadata": {
    "scrolled": true
   },
   "outputs": [],
   "source": [
    "df_train['namelen'] = [min(70, len(n)) for n in df_train['Name']]\n",
    "dst_input['namelen'] = [min(70, len(n)) for n in dst_input['Name']]"
   ]
  },
  {
   "cell_type": "code",
   "execution_count": 125,
   "metadata": {},
   "outputs": [],
   "source": [
    "price_df_train = pd.DataFrame(df_train)\n",
    "price_df_train.to_excel('price_df_train.xlsx')"
   ]
  },
  {
   "cell_type": "code",
   "execution_count": 126,
   "metadata": {},
   "outputs": [],
   "source": [
    "#combining the train and test \n",
    "y_train = df_train['Price']\n",
    "train_nomissing = df_train.drop('Price',axis=1)\n",
    "test_nomissing = dst_input\n",
    "combined_set = pd.concat([train_nomissing, test_nomissing], axis = 0) # Stacks them vertically"
   ]
  },
  {
   "cell_type": "code",
   "execution_count": 127,
   "metadata": {},
   "outputs": [],
   "source": [
    "dummy2_combined_set=combined_set\n",
    "combined_set = dummy2_combined_set"
   ]
  },
  {
   "cell_type": "code",
   "execution_count": 128,
   "metadata": {},
   "outputs": [],
   "source": [
    "# agegroup below 30 and above 59 as a categorical feature\n",
    "def premium(pro):\n",
    "    if(pro in [\"maruti\",\"hyundai\",'honda','ford','mahindra','tata','skoda','renault'\n",
    "              ,'chevrolet','nissan','fiat','datsun','ambassador','hindustan'\n",
    "              ,'Smart']):\n",
    "        pro='I'\n",
    "    else:\n",
    "        pro='P'\n",
    "    return pro\n",
    "      \n",
    "combined_set['is_premium'] = combined_set['Name1'].apply(premium)"
   ]
  },
  {
   "cell_type": "code",
   "execution_count": 129,
   "metadata": {},
   "outputs": [],
   "source": [
    "# agegroup below 30 and above 59 as a categorical feature\n",
    "def Exp_output(Ex):\n",
    "    if Ex<=2006:\n",
    "        Ex=2006\n",
    "    return Ex\n",
    "      \n",
    "combined_set['Year'] = combined_set['Year'].apply(Exp_output)"
   ]
  },
  {
   "cell_type": "code",
   "execution_count": 130,
   "metadata": {},
   "outputs": [],
   "source": [
    "# agegroup below 30 and above 59 as a categorical feature\n",
    "def Exp_output(Ex):\n",
    "    if (Ex in ['CNG','LPG']):\n",
    "        Ex='LPG_CNG'\n",
    "    return Ex\n",
    "      \n",
    "combined_set['Fuel_Type'] = combined_set['Fuel_Type'].apply(Exp_output)"
   ]
  },
  {
   "cell_type": "code",
   "execution_count": 131,
   "metadata": {},
   "outputs": [],
   "source": [
    "# agegroup below 30 and above 59 as a categorical feature\n",
    "def Exp_owner(Ex_Tr):\n",
    "    Ex,Tr=Ex_Tr\n",
    "    if ((Tr =='Manual' and Ex in ['Second','Third']) or (Ex=='Fourth & Above')):\n",
    "        Ex='com'\n",
    "    return Ex\n",
    "      \n",
    "combined_set['Owner_Type'] = combined_set[['Owner_Type','Transmission']].apply(Exp_owner,axis=1)"
   ]
  },
  {
   "cell_type": "code",
   "execution_count": 132,
   "metadata": {},
   "outputs": [],
   "source": [
    "# agegroup below 30 and above 59 as a categorical feature\n",
    "def Exp_price(Ex_pr):\n",
    "    Ex,pr=Ex_pr\n",
    "    if Ex in ['mercedes-benz s','jaguar f'] :\n",
    "        pr=200\n",
    "    elif Ex in ['audi a8','mercedes-benz sl-class']:\n",
    "        pr=100\n",
    "    elif Ex in ['mercedes-benz gl-class','bmw x6','jaguar xj','mercedes-benz slk-class','volvo xc90','audi a7',\n",
    "               'porsche cayman','toyota land'] :\n",
    "        pr=90\n",
    "    elif Ex in ['bmw x5','bmw 6','mitsubishi montero']:\n",
    "        pr=70\n",
    "    elif Ex in ['mercedes-benz m-class','audi tt','bmw z4'] :\n",
    "        pr=66\n",
    "    elif Ex in ['audi q5','volvo xc60','mercedes-benz r-class','volvo s80','nissan 370z']:\n",
    "        pr=55\n",
    "    elif Ex=='honda accord':\n",
    "        pr=44\n",
    "    elif Ex in ['hyundai santa','volkswagen passat','renault koleos','nissan x-trail','chevrolet captiva','bmw 1',\n",
    "               'mitsubishi outlander','fiat abarth']:\n",
    "        pr=30\n",
    "    elif Ex in[ 'mahindra ssangyong','skoda yeti','nissan teana','maruti grand','isuzu mu']:\n",
    "        pr= 24\n",
    "    elif Ex=='hyundai sonata':\n",
    "        pr=18\n",
    "    elif Ex in ['volkswagen jetta','isuzu d-max']:\n",
    "        pr=17\n",
    "    elif Ex in['skoda laura','chevrolet cruze','renault fluence']:\n",
    "        pr=16.5\n",
    "    elif Ex=='tata new':\n",
    "        pr=14\n",
    "    elif Ex in ['mahindra scorpio','renault scala','tata xenon','force one','chevrolet tavera','renault captur']:\n",
    "        pr=12\n",
    "    elif Ex in ['ford fiesta','maruti sx4','honda civic','mahindra tuv','chevrolet optra','maruti s',\n",
    "               'tata sumo','mahindra quanto','toyota qualis','volkswagen crosspolo','renault lodgy','mitsubishi lancer'\n",
    "               ,'mitsubishi cedia','mahindra jeep']:\n",
    "        pr=9\n",
    "    elif Ex in ['hyundai accent','honda mobilio','chevrolet enjoy','renault pulse','fiat grande','mahindra renault',\n",
    "               'ford classic']:\n",
    "        pr=7\n",
    "    elif Ex in ['maruti ritz','tata manza','chevrolet aveo','chevrolet sail','maruti esteem','mahindra logan',\n",
    "               'ford fusion','opelcorsa 1.4gsi']:\n",
    "        pr=6\n",
    "    elif Ex in ['tata indigo','hyundai i10','ford ikon','fiat petra','hindustan motors']:\n",
    "        pr= 5\n",
    "    elif Ex in ['hyundai eon','hyundai getz','chevrolet beat','tata venture']:\n",
    "        pr=4.5\n",
    "    elif Ex in['tata indica','maruti a-star','maruti estilo','maruti versa','maruti 1000','datsun redi']:\n",
    "        pr=4\n",
    "    elif Ex in ['chevrolet spark','maruti zen']:\n",
    "        pr=3.5\n",
    "    elif Ex in ['maruti omni','maruti 800']:\n",
    "        pr=3\n",
    "    elif Ex =='tata nano':\n",
    "        pr=2.5     \n",
    "    return pr\n",
    "      \n",
    "combined_set['New_Price'] = combined_set[['Name2','New_Price']].apply(Exp_price,axis=1)"
   ]
  },
  {
   "cell_type": "code",
   "execution_count": 133,
   "metadata": {
    "scrolled": true
   },
   "outputs": [],
   "source": [
    "combined_set=combined_set.drop(['Name','Name1','cur'],axis=1)\n",
    "combined_set=pd.get_dummies(data=combined_set)"
   ]
  },
  {
   "cell_type": "code",
   "execution_count": 134,
   "metadata": {},
   "outputs": [],
   "source": [
    "st_dummies = pd.get_dummies(combined_set.Seats, prefix='Seats')\n",
    "combined_set = pd.concat([combined_set,st_dummies], axis=1)\n",
    "\n",
    "combined_set=combined_set.drop(['Seats'],axis=1)"
   ]
  },
  {
   "cell_type": "code",
   "execution_count": 135,
   "metadata": {
    "colab": {},
    "colab_type": "code",
    "id": "4m785xRv2Jf4",
    "outputId": "18cdca9f-7884-44ac-f29e-ae04150d3402"
   },
   "outputs": [],
   "source": [
    "df_train = combined_set[:train_nomissing.shape[0]]\n",
    "df_test = combined_set[train_nomissing.shape[0]:]"
   ]
  },
  {
   "cell_type": "code",
   "execution_count": 136,
   "metadata": {
    "colab": {},
    "colab_type": "code",
    "id": "4m785xRv2Jf4",
    "outputId": "18cdca9f-7884-44ac-f29e-ae04150d3402"
   },
   "outputs": [],
   "source": [
    "from sklearn.preprocessing import StandardScaler\n",
    "sc = StandardScaler()\n",
    "df_train_arr_scld = sc.fit_transform(df_train)\n",
    "df_train_scld=pd.DataFrame(df_train_arr_scld,columns=df_train.columns)\n",
    "df_test_arr_scld = sc.transform(df_test)\n",
    "df_test_scld=pd.DataFrame(df_test_arr_scld,columns=df_test.columns)"
   ]
  },
  {
   "cell_type": "code",
   "execution_count": 137,
   "metadata": {
    "colab": {},
    "colab_type": "code",
    "id": "4m785xRv2Jf4",
    "outputId": "18cdca9f-7884-44ac-f29e-ae04150d3402"
   },
   "outputs": [],
   "source": [
    "train = df_train_scld \n",
    "test = df_test_scld \n",
    "\n",
    "labels = y_train"
   ]
  },
  {
   "cell_type": "code",
   "execution_count": 138,
   "metadata": {
    "colab": {},
    "colab_type": "code",
    "id": "4m785xRv2Jf4",
    "outputId": "18cdca9f-7884-44ac-f29e-ae04150d3402"
   },
   "outputs": [
    {
     "data": {
      "text/html": [
       "<div>\n",
       "<style scoped>\n",
       "    .dataframe tbody tr th:only-of-type {\n",
       "        vertical-align: middle;\n",
       "    }\n",
       "\n",
       "    .dataframe tbody tr th {\n",
       "        vertical-align: top;\n",
       "    }\n",
       "\n",
       "    .dataframe thead th {\n",
       "        text-align: right;\n",
       "    }\n",
       "</style>\n",
       "<table border=\"1\" class=\"dataframe\">\n",
       "  <thead>\n",
       "    <tr style=\"text-align: right;\">\n",
       "      <th></th>\n",
       "      <th>Year</th>\n",
       "      <th>Kilometers_Driven</th>\n",
       "      <th>Mileage</th>\n",
       "      <th>Engine</th>\n",
       "      <th>Power</th>\n",
       "      <th>New_Price</th>\n",
       "      <th>namelen</th>\n",
       "      <th>Location_Ahmedabad</th>\n",
       "      <th>Location_Bangalore</th>\n",
       "      <th>Location_Chennai</th>\n",
       "      <th>...</th>\n",
       "      <th>is_premium_I</th>\n",
       "      <th>is_premium_P</th>\n",
       "      <th>Seats_2.0</th>\n",
       "      <th>Seats_4.0</th>\n",
       "      <th>Seats_5.0</th>\n",
       "      <th>Seats_6.0</th>\n",
       "      <th>Seats_7.0</th>\n",
       "      <th>Seats_8.0</th>\n",
       "      <th>Seats_9.0</th>\n",
       "      <th>Seats_10.0</th>\n",
       "    </tr>\n",
       "  </thead>\n",
       "  <tbody>\n",
       "    <tr>\n",
       "      <th>0</th>\n",
       "      <td>-1.099422</td>\n",
       "      <td>0.368090</td>\n",
       "      <td>1.937179</td>\n",
       "      <td>-1.036946</td>\n",
       "      <td>-1.009167</td>\n",
       "      <td>-0.652672</td>\n",
       "      <td>-0.523170</td>\n",
       "      <td>-0.196657</td>\n",
       "      <td>-0.251542</td>\n",
       "      <td>-0.298769</td>\n",
       "      <td>...</td>\n",
       "      <td>0.643324</td>\n",
       "      <td>-0.643324</td>\n",
       "      <td>-0.05164</td>\n",
       "      <td>-0.12935</td>\n",
       "      <td>0.436555</td>\n",
       "      <td>-0.07197</td>\n",
       "      <td>-0.355501</td>\n",
       "      <td>-0.150935</td>\n",
       "      <td>-0.022336</td>\n",
       "      <td>-0.028841</td>\n",
       "    </tr>\n",
       "    <tr>\n",
       "      <th>1</th>\n",
       "      <td>0.510872</td>\n",
       "      <td>-0.434202</td>\n",
       "      <td>0.266755</td>\n",
       "      <td>-0.063648</td>\n",
       "      <td>0.254823</td>\n",
       "      <td>-0.211941</td>\n",
       "      <td>0.733173</td>\n",
       "      <td>-0.196657</td>\n",
       "      <td>-0.251542</td>\n",
       "      <td>-0.298769</td>\n",
       "      <td>...</td>\n",
       "      <td>0.643324</td>\n",
       "      <td>-0.643324</td>\n",
       "      <td>-0.05164</td>\n",
       "      <td>-0.12935</td>\n",
       "      <td>0.436555</td>\n",
       "      <td>-0.07197</td>\n",
       "      <td>-0.355501</td>\n",
       "      <td>-0.150935</td>\n",
       "      <td>-0.022336</td>\n",
       "      <td>-0.028841</td>\n",
       "    </tr>\n",
       "  </tbody>\n",
       "</table>\n",
       "<p>2 rows × 257 columns</p>\n",
       "</div>"
      ],
      "text/plain": [
       "       Year  Kilometers_Driven   Mileage    Engine     Power  New_Price  \\\n",
       "0 -1.099422           0.368090  1.937179 -1.036946 -1.009167  -0.652672   \n",
       "1  0.510872          -0.434202  0.266755 -0.063648  0.254823  -0.211941   \n",
       "\n",
       "    namelen  Location_Ahmedabad  Location_Bangalore  Location_Chennai  ...  \\\n",
       "0 -0.523170           -0.196657           -0.251542         -0.298769  ...   \n",
       "1  0.733173           -0.196657           -0.251542         -0.298769  ...   \n",
       "\n",
       "   is_premium_I  is_premium_P  Seats_2.0  Seats_4.0  Seats_5.0  Seats_6.0  \\\n",
       "0      0.643324     -0.643324   -0.05164   -0.12935   0.436555   -0.07197   \n",
       "1      0.643324     -0.643324   -0.05164   -0.12935   0.436555   -0.07197   \n",
       "\n",
       "   Seats_7.0  Seats_8.0  Seats_9.0  Seats_10.0  \n",
       "0  -0.355501  -0.150935  -0.022336   -0.028841  \n",
       "1  -0.355501  -0.150935  -0.022336   -0.028841  \n",
       "\n",
       "[2 rows x 257 columns]"
      ]
     },
     "execution_count": 138,
     "metadata": {},
     "output_type": "execute_result"
    }
   ],
   "source": [
    "train.head(2)"
   ]
  },
  {
   "cell_type": "code",
   "execution_count": 139,
   "metadata": {
    "colab": {},
    "colab_type": "code",
    "id": "4m785xRv2Jf4",
    "outputId": "18cdca9f-7884-44ac-f29e-ae04150d3402",
    "scrolled": true
   },
   "outputs": [
    {
     "name": "stdout",
     "output_type": "stream",
     "text": [
      "(6016, 257)\n",
      "(1234, 257)\n"
     ]
    }
   ],
   "source": [
    "print(train.shape)\n",
    "print(test.shape)"
   ]
  },
  {
   "cell_type": "code",
   "execution_count": 140,
   "metadata": {
    "colab": {},
    "colab_type": "code",
    "id": "4m785xRv2Jf4",
    "outputId": "18cdca9f-7884-44ac-f29e-ae04150d3402"
   },
   "outputs": [],
   "source": [
    "train1=train.copy()\n",
    "test1=test.copy()\n",
    "y_train1=y_train.copy()"
   ]
  },
  {
   "cell_type": "code",
   "execution_count": 141,
   "metadata": {},
   "outputs": [],
   "source": [
    "from sklearn.linear_model import ElasticNet, Lasso,  BayesianRidge, LassoLarsIC\n",
    "from sklearn.ensemble import RandomForestRegressor,  GradientBoostingRegressor\n",
    "from sklearn.kernel_ridge import KernelRidge\n",
    "from sklearn.pipeline import make_pipeline\n",
    "from sklearn.preprocessing import RobustScaler\n",
    "from sklearn.base import BaseEstimator, TransformerMixin, RegressorMixin, clone\n",
    "from sklearn.model_selection import KFold, cross_val_score, train_test_split\n",
    "from sklearn.metrics import mean_squared_error\n",
    "import xgboost as xgb\n",
    "import lightgbm as lgb\n",
    "from sklearn.linear_model import SGDRegressor\n",
    "from sklearn.svm import SVR"
   ]
  },
  {
   "cell_type": "code",
   "execution_count": 142,
   "metadata": {},
   "outputs": [],
   "source": [
    "#Validation function\n",
    "n_folds = 5\n",
    "\n",
    "def rmsle_cv(model):\n",
    "    kf = KFold(n_folds, shuffle=True, random_state=42).get_n_splits(train.values)\n",
    "    rmse= np.sqrt(-cross_val_score(model, train.values, y_train, scoring=\"neg_mean_squared_error\", cv = kf))\n",
    "    return(rmse)"
   ]
  },
  {
   "cell_type": "code",
   "execution_count": 143,
   "metadata": {},
   "outputs": [],
   "source": [
    "def rmsle(y, y_pred):\n",
    "    return np.sqrt(mean_squared_error(y, y_pred))"
   ]
  },
  {
   "cell_type": "markdown",
   "metadata": {},
   "source": [
    "### Model Building"
   ]
  },
  {
   "cell_type": "code",
   "execution_count": 144,
   "metadata": {},
   "outputs": [],
   "source": [
    "GBoost = GradientBoostingRegressor(n_estimators=3000, learning_rate=0.05,max_depth=4,\n",
    "                                   min_samples_leaf=15, min_samples_split=15, loss='huber', random_state =5)"
   ]
  },
  {
   "cell_type": "code",
   "execution_count": 145,
   "metadata": {},
   "outputs": [],
   "source": [
    "GBoost.fit(train, y_train)\n",
    "gb_train_pred = GBoost.predict(train)"
   ]
  },
  {
   "cell_type": "code",
   "execution_count": 146,
   "metadata": {},
   "outputs": [],
   "source": [
    "gb_pred = (GBoost.predict(test.values))"
   ]
  },
  {
   "cell_type": "code",
   "execution_count": 147,
   "metadata": {},
   "outputs": [
    {
     "name": "stdout",
     "output_type": "stream",
     "text": [
      "1.7306934682038493\n"
     ]
    }
   ],
   "source": [
    "print(rmsle(y_train, gb_train_pred))"
   ]
  },
  {
   "cell_type": "code",
   "execution_count": 148,
   "metadata": {},
   "outputs": [],
   "source": [
    "model_xgb = xgb.XGBRegressor(colsample_bytree=0.52, gamma=0.03, \n",
    "                             learning_rate=0.072, max_depth=6, \n",
    "                             min_child_weight=2, n_estimators=2200,\n",
    "                             reg_alpha=0, reg_lambda=1,\n",
    "                             subsample=0.615, silent=1,\n",
    "                             random_state =7, nthread = -1)"
   ]
  },
  {
   "cell_type": "code",
   "execution_count": 149,
   "metadata": {
    "scrolled": true
   },
   "outputs": [
    {
     "name": "stdout",
     "output_type": "stream",
     "text": [
      "0.31700792810615586\n"
     ]
    }
   ],
   "source": [
    "model_xgb.fit(train, y_train)\n",
    "xgb_train_pred = model_xgb.predict(train)\n",
    "xgb_pred = model_xgb.predict(test)\n",
    "print(rmsle(y_train, xgb_train_pred))"
   ]
  },
  {
   "cell_type": "code",
   "execution_count": 150,
   "metadata": {
    "colab": {},
    "colab_type": "code",
    "id": "WCs9o0xt3Zfi"
   },
   "outputs": [],
   "source": [
    "price_XG_pred = pd.DataFrame(xgb_pred)\n",
    "price_XG_pred.to_excel('price_test_reslt_xgb1.xlsx')"
   ]
  },
  {
   "cell_type": "code",
   "execution_count": 151,
   "metadata": {},
   "outputs": [],
   "source": [
    "model_lgb = lgb.LGBMRegressor(objective='regression',num_leaves=31,\n",
    "                              learning_rate=0.05, n_estimators=2800,feature_fraction = 0.75,\n",
    "                              feature_fraction_seed=9,min_data_in_leaf =15\n",
    "                                                         \n",
    "                              )"
   ]
  },
  {
   "cell_type": "code",
   "execution_count": 152,
   "metadata": {},
   "outputs": [],
   "source": [
    "model_lgb.fit(train, y_train)\n",
    "lgb_train_pred = model_lgb.predict(train)"
   ]
  },
  {
   "cell_type": "code",
   "execution_count": 153,
   "metadata": {
    "scrolled": false
   },
   "outputs": [
    {
     "name": "stdout",
     "output_type": "stream",
     "text": [
      "0.33650575458555665\n"
     ]
    }
   ],
   "source": [
    "print(rmsle(y_train, lgb_train_pred))"
   ]
  },
  {
   "cell_type": "code",
   "execution_count": 154,
   "metadata": {},
   "outputs": [],
   "source": [
    "lgb_pred = model_lgb.predict(test.values)\n",
    "price_pred_lgb = pd.DataFrame(lgb_pred)\n",
    "price_pred_lgb.to_excel('price_test_reslt_lgbm.xlsx')"
   ]
  },
  {
   "cell_type": "code",
   "execution_count": 155,
   "metadata": {},
   "outputs": [],
   "source": [
    "ens_train =  xgb_train_pred*0.4 + lgb_train_pred*0.3 + gb_train_pred*0.3\n",
    "ens_train_pd = pd.DataFrame(ens_train)\n",
    "ens_train_pd.to_excel('ens_train_pd.xlsx')"
   ]
  },
  {
   "cell_type": "code",
   "execution_count": 156,
   "metadata": {
    "scrolled": true
   },
   "outputs": [
    {
     "name": "stdout",
     "output_type": "stream",
     "text": [
      "RMSLE score on train data:\n",
      "0.645398613241735\n"
     ]
    }
   ],
   "source": [
    "'''RMSE on the entire Train data when averaging'''\n",
    "\n",
    "print('RMSLE score on train data:')\n",
    "print(rmsle(y_train,xgb_train_pred*0.4 + lgb_train_pred*0.3 + gb_train_pred*0.3 ))"
   ]
  },
  {
   "cell_type": "code",
   "execution_count": 157,
   "metadata": {},
   "outputs": [],
   "source": [
    "ensemble =  xgb_pred*0.4 + lgb_pred*0.3 + gb_pred*0.3\n",
    "price_pred_ensb = pd.DataFrame(ensemble)\n",
    "price_pred_ensb.to_excel('price_test_reslt_ensb1.xlsx')"
   ]
  },
  {
   "cell_type": "code",
   "execution_count": null,
   "metadata": {},
   "outputs": [],
   "source": []
  }
 ],
 "metadata": {
  "kernelspec": {
   "display_name": "Python 3",
   "language": "python",
   "name": "python3"
  },
  "language_info": {
   "codemirror_mode": {
    "name": "ipython",
    "version": 3
   },
   "file_extension": ".py",
   "mimetype": "text/x-python",
   "name": "python",
   "nbconvert_exporter": "python",
   "pygments_lexer": "ipython3",
   "version": "3.6.7"
  }
 },
 "nbformat": 4,
 "nbformat_minor": 2
}
