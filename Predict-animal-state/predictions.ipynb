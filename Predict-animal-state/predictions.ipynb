{
 "cells": [
  {
   "cell_type": "code",
   "execution_count": 41,
   "metadata": {
    "_uuid": "e3f0d3ca958933d674db1d13d931ff83abe6dac5"
   },
   "outputs": [],
   "source": [
    "import pandas as pd\n",
    "import numpy as np"
   ]
  },
  {
   "cell_type": "code",
   "execution_count": 42,
   "metadata": {
    "_uuid": "7b6eb6022137da4e7256ec17cc93514caf172ea5"
   },
   "outputs": [],
   "source": [
    "test = pd.read_csv('test.csv')\n",
    "data = pd.read_csv('train.csv')"
   ]
  },
  {
   "cell_type": "code",
   "execution_count": 43,
   "metadata": {
    "_uuid": "465ae4af70fde3a76c370956025f98e1c0868052"
   },
   "outputs": [],
   "source": [
    "data.drop(['time_in_shelter','count','date_of_birth','intake_datetime','animal_id_outcome','outcome_datetime',
    "           'intake_weekday','outcome_weekday','outcome_monthyear','intake_monthyear'], axis=1, inplace=True)"
   ]
  },
  {
   "cell_type": "code",
   "execution_count": 44,
   "metadata": {
    "_uuid": "d9b35841b73834e5479bb3b47585d7b75da06f29"
   },
   "outputs": [],
   "source": [
    "test.drop(['time_in_shelter','count','date_of_birth','intake_datetime','outcome_datetime',
    "           'intake_weekday','outcome_weekday','outcome_monthyear','intake_monthyear'], axis=1, inplace=True)"
   ]
  },
  {
   "cell_type": "code",
   "execution_count": 45,
   "metadata": {
    "scrolled": true
   },
   "outputs": [
    {
     "data": {
      "text/html": [
       "<div>\n",
       "<style scoped>\n",
       "    .dataframe tbody tr th:only-of-type {\n",
       "        vertical-align: middle;\n",
       "    }\n",
       "\n",
       "    .dataframe tbody tr th {\n",
       "        vertical-align: top;\n",
       "    }\n",
       "\n",
       "    .dataframe thead th {\n",
       "        text-align: right;\n",
       "    }\n",
       "</style>\n",
       "<table border=\"1\" class=\"dataframe\">\n",
       "  <thead>\n",
       "    <tr style=\"text-align: right;\">\n",
       "      <th></th>\n",
       "      <th>dob_year</th>\n",
       "      <th>dob_month</th>\n",
       "      <th>age_upon_intake</th>\n",
       "      <th>animal_type</th>\n",
       "      <th>breed</th>\n",
       "      <th>color</th>\n",
       "      <th>intake_condition</th>\n",
       "      <th>intake_type</th>\n",
       "      <th>sex_upon_intake</th>\n",
       "      <th>age_upon_intake_(days)</th>\n",
       "      <th>...</th>\n",
       "      <th>age_upon_outcome</th>\n",
       "      <th>sex_upon_outcome</th>\n",
       "      <th>age_upon_outcome_(days)</th>\n",
       "      <th>age_upon_outcome_(years)</th>\n",
       "      <th>age_upon_outcome_age_group</th>\n",
       "      <th>outcome_month</th>\n",
       "      <th>outcome_year</th>\n",
       "      <th>outcome_hour</th>\n",
       "      <th>outcome_number</th>\n",
       "      <th>outcome_type</th>\n",
       "    </tr>\n",
       "  </thead>\n",
       "  <tbody>\n",
       "    <tr>\n",
       "      <th>0</th>\n",
       "      <td>2007</td>\n",
       "      <td>7</td>\n",
       "      <td>10 years</td>\n",
       "      <td>Dog</td>\n",
       "      <td>Spinone Italiano Mix</td>\n",
       "      <td>Yellow/White</td>\n",
       "      <td>Normal</td>\n",
       "      <td>Stray</td>\n",
       "      <td>Neutered Male</td>\n",
       "      <td>3650</td>\n",
       "      <td>...</td>\n",
       "      <td>10 years</td>\n",
       "      <td>Neutered Male</td>\n",
       "      <td>3650</td>\n",
       "      <td>10.0</td>\n",
       "      <td>(7.5, 10.0]</td>\n",
       "      <td>12</td>\n",
       "      <td>2017</td>\n",
       "      <td>0</td>\n",
       "      <td>1.0</td>\n",
       "      <td>Return to Owner</td>\n",
       "    </tr>\n",
       "    <tr>\n",
       "      <th>1</th>\n",
       "      <td>2007</td>\n",
       "      <td>7</td>\n",
       "      <td>7 years</td>\n",
       "      <td>Dog</td>\n",
       "      <td>Spinone Italiano Mix</td>\n",
       "      <td>Yellow/White</td>\n",
       "      <td>Normal</td>\n",
       "      <td>Public Assist</td>\n",
       "      <td>Neutered Male</td>\n",
       "      <td>2555</td>\n",
       "      <td>...</td>\n",
       "      <td>7 years</td>\n",
       "      <td>Neutered Male</td>\n",
       "      <td>2555</td>\n",
       "      <td>7.0</td>\n",
       "      <td>(5.0, 7.5]</td>\n",
       "      <td>12</td>\n",
       "      <td>2014</td>\n",
       "      <td>16</td>\n",
       "      <td>2.0</td>\n",
       "      <td>Return to Owner</td>\n",
       "    </tr>\n",
       "    <tr>\n",
       "      <th>2</th>\n",
       "      <td>2007</td>\n",
       "      <td>7</td>\n",
       "      <td>6 years</td>\n",
       "      <td>Dog</td>\n",
       "      <td>Spinone Italiano Mix</td>\n",
       "      <td>Yellow/White</td>\n",
       "      <td>Normal</td>\n",
       "      <td>Public Assist</td>\n",
       "      <td>Neutered Male</td>\n",
       "      <td>2190</td>\n",
       "      <td>...</td>\n",
       "      <td>6 years</td>\n",
       "      <td>Neutered Male</td>\n",
       "      <td>2190</td>\n",
       "      <td>6.0</td>\n",
       "      <td>(5.0, 7.5]</td>\n",
       "      <td>3</td>\n",
       "      <td>2014</td>\n",
       "      <td>17</td>\n",
       "      <td>3.0</td>\n",
       "      <td>Return to Owner</td>\n",
       "    </tr>\n",
       "    <tr>\n",
       "      <th>3</th>\n",
       "      <td>2004</td>\n",
       "      <td>4</td>\n",
       "      <td>10 years</td>\n",
       "      <td>Dog</td>\n",
       "      <td>Dachshund</td>\n",
       "      <td>Tricolor</td>\n",
       "      <td>Normal</td>\n",
       "      <td>Owner Surrender</td>\n",
       "      <td>Neutered Male</td>\n",
       "      <td>3650</td>\n",
       "      <td>...</td>\n",
       "      <td>10 years</td>\n",
       "      <td>Neutered Male</td>\n",
       "      <td>3650</td>\n",
       "      <td>10.0</td>\n",
       "      <td>(7.5, 10.0]</td>\n",
       "      <td>4</td>\n",
       "      <td>2014</td>\n",
       "      <td>15</td>\n",
       "      <td>1.0</td>\n",
       "      <td>Missing</td>\n",
       "    </tr>\n",
       "    <tr>\n",
       "      <th>4</th>\n",
       "      <td>1997</td>\n",
       "      <td>10</td>\n",
       "      <td>16 years</td>\n",
       "      <td>Dog</td>\n",
       "      <td>Shetland Sheepdog</td>\n",
       "      <td>Brown/White</td>\n",
       "      <td>Injured</td>\n",
       "      <td>Public Assist</td>\n",
       "      <td>Neutered Male</td>\n",
       "      <td>5840</td>\n",
       "      <td>...</td>\n",
       "      <td>16 years</td>\n",
       "      <td>Neutered Male</td>\n",
       "      <td>5840</td>\n",
       "      <td>16.0</td>\n",
       "      <td>(15.0, 17.5]</td>\n",
       "      <td>11</td>\n",
       "      <td>2013</td>\n",
       "      <td>11</td>\n",
       "      <td>1.0</td>\n",
       "      <td>Return to Owner</td>\n",
       "    </tr>\n",
       "  </tbody>\n",
       "</table>\n",
       "<p>5 rows × 27 columns</p>\n",
       "</div>"
      ],
      "text/plain": [
       "   dob_year  dob_month age_upon_intake animal_type                 breed  \\\n",
       "0      2007          7        10 years         Dog  Spinone Italiano Mix   \n",
       "1      2007          7         7 years         Dog  Spinone Italiano Mix   \n",
       "2      2007          7         6 years         Dog  Spinone Italiano Mix   \n",
       "3      2004          4        10 years         Dog             Dachshund   \n",
       "4      1997         10        16 years         Dog     Shetland Sheepdog   \n",
       "\n",
       "          color intake_condition      intake_type sex_upon_intake  \\\n",
       "0  Yellow/White           Normal            Stray   Neutered Male   \n",
       "1  Yellow/White           Normal    Public Assist   Neutered Male   \n",
       "2  Yellow/White           Normal    Public Assist   Neutered Male   \n",
       "3      Tricolor           Normal  Owner Surrender   Neutered Male   \n",
       "4   Brown/White          Injured    Public Assist   Neutered Male   \n",
       "\n",
       "   age_upon_intake_(days)  ...  age_upon_outcome sex_upon_outcome  \\\n",
       "0                    3650  ...          10 years    Neutered Male   \n",
       "1                    2555  ...           7 years    Neutered Male   \n",
       "2                    2190  ...           6 years    Neutered Male   \n",
       "3                    3650  ...          10 years    Neutered Male   \n",
       "4                    5840  ...          16 years    Neutered Male   \n",
       "\n",
       "   age_upon_outcome_(days)  age_upon_outcome_(years)  \\\n",
       "0                     3650                      10.0   \n",
       "1                     2555                       7.0   \n",
       "2                     2190                       6.0   \n",
       "3                     3650                      10.0   \n",
       "4                     5840                      16.0   \n",
       "\n",
       "   age_upon_outcome_age_group  outcome_month  outcome_year outcome_hour  \\\n",
       "0                 (7.5, 10.0]             12          2017            0   \n",
       "1                  (5.0, 7.5]             12          2014           16   \n",
       "2                  (5.0, 7.5]              3          2014           17   \n",
       "3                 (7.5, 10.0]              4          2014           15   \n",
       "4                (15.0, 17.5]             11          2013           11   \n",
       "\n",
       "  outcome_number     outcome_type  \n",
       "0            1.0  Return to Owner  \n",
       "1            2.0  Return to Owner  \n",
       "2            3.0  Return to Owner  \n",
       "3            1.0          Missing  \n",
       "4            1.0  Return to Owner  \n",
       "\n",
       "[5 rows x 27 columns]"
      ]
     },
     "execution_count": 45,
     "metadata": {},
     "output_type": "execute_result"
    }
   ],
   "source": [
    "data.head()"
   ]
  },
  {
   "cell_type": "code",
   "execution_count": 47,
   "metadata": {
    "_uuid": "5a095f68d355621690dbbf18b2d069b3d6254597"
   },
   "outputs": [],
   "source": [
    "##Just one null value in data(sex_upon_outcome) so i decided to drop that\n",
    "data = data.dropna()\n",
    "test = test.dropna()"
   ]
  },
  {
   "cell_type": "code",
   "execution_count": 48,
   "metadata": {
    "_uuid": "bc9e77d4aa8290193d6c7f5601c02a61f102493e"
   },
   "outputs": [],
   "source": [
    "new = test['animal_id_outcome']"
   ]
  },
  {
   "cell_type": "code",
   "execution_count": 49,
   "metadata": {
    "_uuid": "b7cbaea50aa071a226a5ba420da0a6d89ae74673"
   },
   "outputs": [],
   "source": [
    "test.drop('animal_id_outcome', axis=1, inplace=True)"
   ]
  },
  {
   "cell_type": "code",
   "execution_count": 50,
   "metadata": {
    "_uuid": "4d5f4591da85650304b9cc518a478db5de1e445e"
   },
   "outputs": [],
   "source": [
    "from sklearn.preprocessing import LabelEncoder"
   ]
  },
  {
   "cell_type": "code",
   "execution_count": 51,
   "metadata": {
    "_uuid": "d6ad8fe2c134c5cfc71e7a1ca800a8e7ece489a2"
   },
   "outputs": [],
   "source": [
    "#Label encoding of data\n",
    "columns = ['animal_type', 'breed', 'color','intake_condition','sex_upon_intake','age_upon_intake',
    "           'age_upon_outcome','sex_upon_outcome','intake_type','age_upon_intake_age_group','age_upon_outcome_age_group']\n",
    "\n",
    "def encoder(df):\n",
    "    for col in columns:\n",
    "        label_encoder = LabelEncoder()\n",
    "        label_encoder.fit(df[col])\n",
    "        df[col] = label_encoder.transform(df[col])\n",
    "    return df"
   ]
  },
  {
   "cell_type": "code",
   "execution_count": 52,
   "metadata": {
    "_uuid": "327dc84dbacf15537e1df892fccf161112f23035"
   },
   "outputs": [],
   "source": [
    "data = encoder(data)\n",
    "test = encoder(test)"
   ]
  },
  {
   "cell_type": "code",
   "execution_count": 60,
   "metadata": {
    "_uuid": "32b6f8ac853506d6b12ccf451e693d4ef357c91d"
   },
   "outputs": [],
   "source": [
    "from lightgbm import LGBMClassifier\n",
    "from sklearn.model_selection import train_test_split\n",
    "from sklearn.metrics import confusion_matrix, classification_report"
   ]
  },
  {
   "cell_type": "code",
   "execution_count": 65,
   "metadata": {
    "_uuid": "c7b450879a0f56b5a81c9dae27d74398790f6fce"
   },
   "outputs": [],
   "source": [
    "X = data.drop('outcome_type', axis=1)\n",
    "y = data['outcome_type']\n",
    "X_train, X_test, y_train, y_test = train_test_split(X, y, test_size=0.1,\n",
    "                                                    random_state=0, stratify=y)"
   ]
  },
  {
   "cell_type": "code",
   "execution_count": 66,
   "metadata": {
    "_uuid": "cdc80557934cd6ef52133d9dce3b5f4c05231674"
   },
   "outputs": [],
   "source": [
    "lgbm = LGBMClassifier( random_state=10, max_depth =10,num_leaves=30, subsample = 0.7, min_child_samples=10,\n",
    "                      boosting_type='gbdt', objective='regression', reg_lambda=5, n_estimators=200)"
   ]
  },
  {
   "cell_type": "code",
   "execution_count": 67,
   "metadata": {
    "_uuid": "5e3c8a223d12161a89de425fd106a36e1a3a9a4b"
   },
   "outputs": [
    {
     "data": {
      "text/plain": [
       "LGBMClassifier(boosting_type='gbdt', class_weight=None, colsample_bytree=1.0,\n",
       "        importance_type='split', learning_rate=0.1, max_depth=10,\n",
       "        min_child_samples=10, min_child_weight=0.001, min_split_gain=0.0,\n",
       "        n_estimators=200, n_jobs=-1, num_leaves=30, objective='regression',\n",
       "        random_state=10, reg_alpha=0.0, reg_lambda=5, silent=True,\n",
       "        subsample=0.7, subsample_for_bin=200000, subsample_freq=0)"
      ]
     },
     "execution_count": 67,
     "metadata": {},
     "output_type": "execute_result"
    }
   ],
   "source": [
    "lgbm.fit(X_train, y_train)"
   ]
  },
  {
   "cell_type": "code",
   "execution_count": 58,
   "metadata": {
    "_uuid": "b5241892fd817305097596f98332c082151f8885"
   },
   "outputs": [
    {
     "name": "stdout",
     "output_type": "stream",
     "text": [
      "lgbms Accuracy:  0.6325678496868476\n"
     ]
    }
   ],
   "source": [
    "from sklearn import metrics\n",
    "print(\"Lgbms Accuracy: \", metrics.accuracy_score(y_test, y_pred))"
   ]
  },
  {
   "cell_type": "code",
   "execution_count": 18,
   "metadata": {
    "_uuid": "7318ae3f54e9772f55228ac570611f53b0a95ff0"
   },
   "outputs": [],
   "source": [
    "pred = lgbm.predict(test)"
   ]
  },
  {
   "cell_type": "code",
   "execution_count": 19,
   "metadata": {
    "_uuid": "603820136d70d593602127087459a1bb569e4718"
   },
   "outputs": [],
   "source": [
    "submission = pd.DataFrame({\n",
    "        \"animal_id_outcome\": new,\n",
    "        \"outcome_type\": pred})"
   ]
  },
  {
   "cell_type": "code",
   "execution_count": 20,
   "metadata": {
    "_uuid": "8eddfbf2f43037fda8815bd9589cf3943699430e"
   },
   "outputs": [],
   "source": [
    "submission.to_csv('submission.csv', index=False)"
   ]
  }
 ],
 "metadata": {
  "kernelspec": {
   "display_name": "Python 3",
   "language": "python",
   "name": "python3"
  },
  "language_info": {
   "codemirror_mode": {
    "name": "ipython",
    "version": 3
   },
   "file_extension": ".py",
   "mimetype": "text/x-python",
   "name": "python",
   "nbconvert_exporter": "python",
   "pygments_lexer": "ipython3",
   "version": "3.6.8"
  }
 },
 "nbformat": 4,
 "nbformat_minor": 1
}
